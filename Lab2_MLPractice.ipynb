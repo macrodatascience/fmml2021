{
  "nbformat": 4,
  "nbformat_minor": 0,
  "metadata": {
    "colab": {
      "name": "Lab2_MLPractice.ipynb",
      "provenance": [],
      "collapsed_sections": [],
      "include_colab_link": true
    },
    "kernelspec": {
      "name": "python3",
      "display_name": "Python 3"
    },
    "language_info": {
      "name": "python"
    }
  },
  "cells": [
    {
      "cell_type": "markdown",
      "metadata": {
        "id": "view-in-github",
        "colab_type": "text"
      },
      "source": [
        "<a href=\"https://colab.research.google.com/github/macrodatascience/fmml2021/blob/main/Lab2_MLPractice.ipynb\" target=\"_parent\"><img src=\"https://colab.research.google.com/assets/colab-badge.svg\" alt=\"Open In Colab\"/></a>"
      ]
    },
    {
      "cell_type": "markdown",
      "metadata": {
        "id": "3Eu9VZbF01eq"
      },
      "source": [
        "# Machine learning terms and metrics\n",
        "\n",
        "FMML Module 1, Lab 2<br>\n",
        " Module Coordinator: Thrupthi Ann John thrupthi.ann@research.iiit.ac.in <br>\n",
        " Release date: 11 October 2021 Monday <br>\n",
        "\n",
        " In this lab, we will show a part of the ML pipeline by extracting features, training and testing"
      ]
    },
    {
      "cell_type": "code",
      "metadata": {
        "id": "8qBvyEem0vLi"
      },
      "source": [
        "import matplotlib.pyplot as plt\n",
        "import numpy as np\n",
        "from sklearn import datasets\n",
        "# set randomseed\n",
        "rng = np.random.default_rng(seed=42)"
      ],
      "execution_count": null,
      "outputs": []
    },
    {
      "cell_type": "markdown",
      "metadata": {
        "id": "u3t59g5s1HfC"
      },
      "source": [
        "In this lab, we will use the California Housing dataset. There are 20640 samples, each with 8 attributes like income of the block, age of the houses per district etc. The task is to predict the cost of the houses per district. \n",
        "\n",
        "Let us download and examine the dataset. "
      ]
    },
    {
      "cell_type": "code",
      "metadata": {
        "colab": {
          "base_uri": "https://localhost:8080/"
        },
        "id": "uP8AKdeFgUgH",
        "outputId": "3c203ad6-2158-4168-ee3a-b749ed0af274"
      },
      "source": [
        "rng"
      ],
      "execution_count": null,
      "outputs": [
        {
          "output_type": "execute_result",
          "data": {
            "text/plain": [
              "Generator(PCG64) at 0x7F7050C2D750"
            ]
          },
          "metadata": {},
          "execution_count": 17
        }
      ]
    },
    {
      "cell_type": "code",
      "metadata": {
        "id": "8LpqjN991GGJ",
        "colab": {
          "base_uri": "https://localhost:8080/"
        },
        "outputId": "1da4e90d-026e-4249-b724-bd384b9f5cc1"
      },
      "source": [
        " dataset =  datasets.fetch_california_housing()\n",
        " # print(dataset.DESCR)  # uncomment this if you want to know more about this dataset\n",
        " # print(dataset.keys())  # if you want to know what else is there in this dataset\n",
        " dataset.target = dataset.target.astype(np.int) # so that we can classify\n",
        " print(dataset.data.shape)\n",
        " print(dataset.target.shape)"
      ],
      "execution_count": null,
      "outputs": [
        {
          "output_type": "stream",
          "name": "stderr",
          "text": [
            "Downloading Cal. housing from https://ndownloader.figshare.com/files/5976036 to /root/scikit_learn_data\n"
          ]
        },
        {
          "output_type": "stream",
          "name": "stdout",
          "text": [
            "(20640, 8)\n",
            "(20640,)\n"
          ]
        }
      ]
    },
    {
      "cell_type": "code",
      "metadata": {
        "colab": {
          "base_uri": "https://localhost:8080/"
        },
        "id": "GIUvw_paTfLe",
        "outputId": "82ebe73a-c4d1-45e7-e767-a7392549fcec"
      },
      "source": [
        "print(dataset.DESCR)"
      ],
      "execution_count": null,
      "outputs": [
        {
          "output_type": "stream",
          "name": "stdout",
          "text": [
            ".. _california_housing_dataset:\n",
            "\n",
            "California Housing dataset\n",
            "--------------------------\n",
            "\n",
            "**Data Set Characteristics:**\n",
            "\n",
            "    :Number of Instances: 20640\n",
            "\n",
            "    :Number of Attributes: 8 numeric, predictive attributes and the target\n",
            "\n",
            "    :Attribute Information:\n",
            "        - MedInc        median income in block\n",
            "        - HouseAge      median house age in block\n",
            "        - AveRooms      average number of rooms\n",
            "        - AveBedrms     average number of bedrooms\n",
            "        - Population    block population\n",
            "        - AveOccup      average house occupancy\n",
            "        - Latitude      house block latitude\n",
            "        - Longitude     house block longitude\n",
            "\n",
            "    :Missing Attribute Values: None\n",
            "\n",
            "This dataset was obtained from the StatLib repository.\n",
            "http://lib.stat.cmu.edu/datasets/\n",
            "\n",
            "The target variable is the median house value for California districts.\n",
            "\n",
            "This dataset was derived from the 1990 U.S. census, using one row per census\n",
            "block group. A block group is the smallest geographical unit for which the U.S.\n",
            "Census Bureau publishes sample data (a block group typically has a population\n",
            "of 600 to 3,000 people).\n",
            "\n",
            "It can be downloaded/loaded using the\n",
            ":func:`sklearn.datasets.fetch_california_housing` function.\n",
            "\n",
            ".. topic:: References\n",
            "\n",
            "    - Pace, R. Kelley and Ronald Barry, Sparse Spatial Autoregressions,\n",
            "      Statistics and Probability Letters, 33 (1997) 291-297\n",
            "\n"
          ]
        }
      ]
    },
    {
      "cell_type": "code",
      "metadata": {
        "colab": {
          "base_uri": "https://localhost:8080/"
        },
        "id": "VfdouXv3ehFi",
        "outputId": "3613ebbe-76a4-4ec2-82ed-14cbfd4f744d"
      },
      "source": [
        "dataset.keys()"
      ],
      "execution_count": null,
      "outputs": [
        {
          "output_type": "execute_result",
          "data": {
            "text/plain": [
              "dict_keys(['data', 'target', 'feature_names', 'DESCR'])"
            ]
          },
          "metadata": {},
          "execution_count": 5
        }
      ]
    },
    {
      "cell_type": "code",
      "metadata": {
        "colab": {
          "base_uri": "https://localhost:8080/"
        },
        "id": "V0zaYbLAmNmA",
        "outputId": "25970106-e2c1-4e67-cf59-7d7169344f1e"
      },
      "source": [
        "dataset.target"
      ],
      "execution_count": null,
      "outputs": [
        {
          "output_type": "execute_result",
          "data": {
            "text/plain": [
              "array([4, 3, 3, ..., 0, 0, 0])"
            ]
          },
          "metadata": {},
          "execution_count": 37
        }
      ]
    },
    {
      "cell_type": "markdown",
      "metadata": {
        "id": "iNx4174W5xRg"
      },
      "source": [
        "Here is a function for calculating the 1-nearest neighbours"
      ]
    },
    {
      "cell_type": "code",
      "metadata": {
        "id": "07zpydQj1hIQ"
      },
      "source": [
        "def NN1(traindata, trainlabel, query):\n",
        "  diff  = traindata - query  # find the difference between features. Numpy automatically takes care of the size here \n",
        "  sq = diff*diff # square the differences\n",
        "  dist = sq.sum(1) # add up the squares\n",
        "  label = trainlabel[np.argmin(dist)] # our predicted label is the label of the training data which has the least distance from the query\n",
        "  return label\n",
        "\n",
        "def NN(traindata, trainlabel, testdata):\n",
        "  # we will run nearest neighbour for each sample in the test data \n",
        "  # and collect the predicted classes in an array using list comprehension\n",
        "  predlabel = np.array([NN1(traindata, trainlabel, i) for i in testdata])\n",
        "  return predlabel\n"
      ],
      "execution_count": null,
      "outputs": []
    },
    {
      "cell_type": "markdown",
      "metadata": {
        "id": "03JktkfIGaje"
      },
      "source": [
        "We will also define a 'random classifier', which randomly allots labels to each sample"
      ]
    },
    {
      "cell_type": "code",
      "metadata": {
        "id": "fogWAtjyGhAH"
      },
      "source": [
        "def RandomClassifier(traindata, trainlabel, testdata):\n",
        "  # in reality, we don't need these arguments\n",
        "\n",
        "  classes = np.unique(trainlabel)\n",
        "  rints = rng.integers(low=0, high=len(classes), size=len(testdata))\n",
        "  predlabel = classes[rints]\n",
        "  return predlabel"
      ],
      "execution_count": null,
      "outputs": []
    },
    {
      "cell_type": "code",
      "metadata": {
        "colab": {
          "base_uri": "https://localhost:8080/"
        },
        "id": "43mbzZjngwNF",
        "outputId": "cf55729d-d1fc-4c12-a441-cc482ed52700"
      },
      "source": [
        "rng.integers(low=0, high=100, size=100)"
      ],
      "execution_count": null,
      "outputs": [
        {
          "output_type": "execute_result",
          "data": {
            "text/plain": [
              "array([36, 90, 49, 69, 45, 26, 76, 96, 26, 77, 26, 71, 78, 44, 73, 27,  7,\n",
              "        9, 44, 90, 12, 45, 70, 20, 72, 30, 80, 57, 54, 17, 46, 85,  1, 75,\n",
              "       49, 71, 66, 43, 30, 62, 14, 58,  9, 64, 62,  8, 75, 41, 78,  4, 17,\n",
              "       49, 18, 32, 66, 14, 67, 10, 17, 58, 79, 17, 29, 92, 98, 58, 44, 34,\n",
              "       61, 59, 29,  2, 15, 95, 41, 48, 46, 78,  6,  8, 27, 48, 67, 49, 44,\n",
              "       93, 16, 57, 54, 47, 80, 26, 95, 33, 54, 52, 84, 43, 28,  2])"
            ]
          },
          "metadata": {},
          "execution_count": 22
        }
      ]
    },
    {
      "cell_type": "code",
      "metadata": {
        "colab": {
          "base_uri": "https://localhost:8080/"
        },
        "id": "Juxm-8PNkak4",
        "outputId": "b042725d-da34-4099-f760-9bd67aa57cc6"
      },
      "source": [
        "r = rng.random(100)\n",
        "r<0.50"
      ],
      "execution_count": null,
      "outputs": [
        {
          "output_type": "execute_result",
          "data": {
            "text/plain": [
              "array([ True,  True,  True,  True,  True,  True,  True, False, False,\n",
              "        True,  True,  True, False,  True,  True,  True,  True,  True,\n",
              "       False, False, False, False, False,  True, False, False,  True,\n",
              "       False,  True, False, False, False, False, False, False, False,\n",
              "        True, False,  True,  True,  True, False,  True,  True,  True,\n",
              "        True,  True, False,  True, False, False,  True,  True, False,\n",
              "        True,  True, False, False, False,  True, False, False,  True,\n",
              "       False,  True,  True, False,  True,  True, False, False, False,\n",
              "       False, False,  True,  True,  True,  True, False,  True,  True,\n",
              "        True,  True, False,  True,  True,  True,  True, False,  True,\n",
              "        True,  True, False, False, False, False, False,  True,  True,\n",
              "       False])"
            ]
          },
          "metadata": {},
          "execution_count": 30
        }
      ]
    },
    {
      "cell_type": "markdown",
      "metadata": {
        "id": "1Hjf1KHs7fU5"
      },
      "source": [
        "Let us define a metric 'Accuracy' to see how good our learning algorithm is. Accuracy is the ratio of the number of correctly classified samples to the total number of samples. The higher the accuracy, the better the algorithm. "
      ]
    },
    {
      "cell_type": "code",
      "metadata": {
        "id": "ouuCqWU07bz-"
      },
      "source": [
        "def Accuracy(gtlabel, predlabel):\n",
        "  assert len(gtlabel)==len(predlabel), \"Length of the groundtruth labels and predicted labels should be the same\"\n",
        "  correct = (gtlabel==predlabel).sum() # count the number of times the groundtruth label is equal to the predicted label.\n",
        "  return correct/len(gtlabel)"
      ],
      "execution_count": null,
      "outputs": []
    },
    {
      "cell_type": "markdown",
      "metadata": {
        "id": "4vJFwBFa9Klw"
      },
      "source": [
        "Let us make a function to split the dataset with the desired probability."
      ]
    },
    {
      "cell_type": "code",
      "metadata": {
        "id": "Ko0VzpSM2Tdi"
      },
      "source": [
        "def split(data, label, percent):\n",
        "  # generate a random number for each sample\n",
        "  rnd = rng.random(len(label))\n",
        "  split1 = rnd<percent\n",
        "  split2 = rnd>=percent\n",
        "  split1data = data[split1,:]\n",
        "  split1label = label[split1]\n",
        "  split2data = data[split2,:]\n",
        "  split2label = label[split2]\n",
        "  return split1data, split1label, split2data, split2label"
      ],
      "execution_count": null,
      "outputs": []
    },
    {
      "cell_type": "markdown",
      "metadata": {
        "id": "AcK3LEAJ_LGC"
      },
      "source": [
        "We will reserve 20% of our dataset as the test set. We will not change this portion throughout our experiments"
      ]
    },
    {
      "cell_type": "code",
      "metadata": {
        "id": "bBZkHBLJ1iU-",
        "colab": {
          "base_uri": "https://localhost:8080/"
        },
        "outputId": "9501cd18-7ab1-4f0b-e432-38a7c953fbe2"
      },
      "source": [
        "testdata, testlabel, alltraindata, alltrainlabel = split(dataset.data, dataset.target, 20/100)\n",
        "print('Number of test samples = ', len(testlabel))\n",
        "print('Number of other samples = ', len(alltrainlabel))\n",
        "print('Percent of test data = ', len(testlabel)*100/len(dataset.target),'%')"
      ],
      "execution_count": null,
      "outputs": [
        {
          "output_type": "stream",
          "name": "stdout",
          "text": [
            "Number of test samples =  4102\n",
            "Number of other samples =  16538\n",
            "Percent of test data =  19.874031007751938 %\n"
          ]
        }
      ]
    },
    {
      "cell_type": "markdown",
      "metadata": {
        "id": "a6Ss0Z6IAGNV"
      },
      "source": [
        "## Experiments with splits\n",
        "\n",
        "Let us reserve some of our train data as a validation set"
      ]
    },
    {
      "cell_type": "code",
      "metadata": {
        "id": "WFew2iry_7W7"
      },
      "source": [
        "traindata, trainlabel, valdata, vallabel = split(alltraindata, alltrainlabel, 75/100)"
      ],
      "execution_count": null,
      "outputs": []
    },
    {
      "cell_type": "markdown",
      "metadata": {
        "id": "60hiu4clFN1i"
      },
      "source": [
        "What is the accuracy of our classifiers on the train dataset?"
      ]
    },
    {
      "cell_type": "code",
      "metadata": {
        "id": "DBlZDTHUFTZx",
        "colab": {
          "base_uri": "https://localhost:8080/"
        },
        "outputId": "e38993b2-6f56-4532-a789-89a1dde1e8ef"
      },
      "source": [
        "trainpred = NN(traindata, trainlabel, traindata)\n",
        "trainAccuracy = Accuracy(trainlabel, trainpred)\n",
        "print(\"Train accuracy using nearest neighbour is \", trainAccuracy)\n",
        "\n",
        "trainpred = RandomClassifier(traindata, trainlabel, traindata)\n",
        "trainAccuracy = Accuracy(trainlabel, trainpred)\n",
        "print(\"Train accuracy using random classifier is \", trainAccuracy)"
      ],
      "execution_count": null,
      "outputs": [
        {
          "output_type": "stream",
          "name": "stdout",
          "text": [
            "Train accuracy using nearest neighbour is  1.0\n",
            "Train accuracy using random classifier is  0.17062914442827107\n"
          ]
        }
      ]
    },
    {
      "cell_type": "markdown",
      "metadata": {
        "id": "7h08-9gJDtSy"
      },
      "source": [
        "For nearest neighbour, the train accuracy is always 1. The accuracy of the random classifier is close to 1/(number of classes) which is 0.1666 in our case.\n",
        "\n",
        "Let us predict the labels for our validation set and get the accuracy"
      ]
    },
    {
      "cell_type": "code",
      "metadata": {
        "id": "4h7bXoW_2H3v",
        "colab": {
          "base_uri": "https://localhost:8080/"
        },
        "outputId": "8d4d56ce-4ef9-428d-d7e1-1c1edbb5922d"
      },
      "source": [
        "valpred = NN(traindata, trainlabel, valdata)\n",
        "valAccuracy = Accuracy(vallabel, valpred)\n",
        "print(\"Validation accuracy using nearest neighbour is \", valAccuracy)\n",
        "\n",
        "valpred = RandomClassifier(traindata, trainlabel, valdata)\n",
        "valAccuracy = Accuracy(vallabel, valpred)\n",
        "print(\"Validation accuracy using random classifier is \", valAccuracy)"
      ],
      "execution_count": null,
      "outputs": [
        {
          "output_type": "stream",
          "name": "stdout",
          "text": [
            "Validation accuracy using nearest neighbour is  0.3396409509946628\n",
            "Validation accuracy using random classifier is  0.16690926734594858\n"
          ]
        }
      ]
    },
    {
      "cell_type": "markdown",
      "metadata": {
        "id": "py9bLguFEjfg"
      },
      "source": [
        "Validation accuracy of nearest neighbour is considerably less than its train accuracy while the validation accuracy of random classifier is the same. However, the validation accuracy of nearest neighbour is twice that of the random classifier. \n",
        "\n",
        "Now let us try another random split and check the validation accuracy"
      ]
    },
    {
      "cell_type": "code",
      "metadata": {
        "id": "ujm3cyYzEntE",
        "colab": {
          "base_uri": "https://localhost:8080/"
        },
        "outputId": "35c92043-7989-4b3d-f94f-f2117c84a81b"
      },
      "source": [
        "traindata, trainlabel, valdata, vallabel = split(alltraindata, alltrainlabel, 25/100)\n",
        "valpred = NN(traindata, trainlabel, valdata)\n",
        "valAccuracy = Accuracy(vallabel, valpred)\n",
        "print(\"Validation accuracy of nearest neighbour is \", valAccuracy)"
      ],
      "execution_count": null,
      "outputs": [
        {
          "output_type": "stream",
          "name": "stdout",
          "text": [
            "Validation accuracy of nearest neighbour is  0.3162386281297802\n"
          ]
        }
      ]
    },
    {
      "cell_type": "markdown",
      "metadata": {
        "id": "oSOx7U83EKie"
      },
      "source": [
        "You can run the above cell multiple times to try with different random splits. \n",
        "We notice that the accuracy is different for each run, but close together. \n",
        "\n",
        "Now let us compare it with the accuracy we get on the test dataset. "
      ]
    },
    {
      "cell_type": "code",
      "metadata": {
        "id": "PNEZ5ToYBEDW",
        "colab": {
          "base_uri": "https://localhost:8080/"
        },
        "outputId": "95fdd901-f46c-44a3-a210-fa26b7fd6dcc"
      },
      "source": [
        "testpred = NN(alltraindata, alltrainlabel, testdata)\n",
        "testAccuracy = Accuracy(testlabel, testpred)\n",
        "print('Test accuracy is ', testAccuracy)"
      ],
      "execution_count": null,
      "outputs": [
        {
          "output_type": "stream",
          "name": "stdout",
          "text": [
            "Test accuracy is  0.3395904436860068\n"
          ]
        }
      ]
    },
    {
      "cell_type": "code",
      "metadata": {
        "id": "h0RgTCt-ErWF"
      },
      "source": [
        "val_accuracies = []"
      ],
      "execution_count": null,
      "outputs": []
    },
    {
      "cell_type": "code",
      "metadata": {
        "colab": {
          "base_uri": "https://localhost:8080/"
        },
        "id": "ET3lTMUDkuQE",
        "outputId": "523e6e3a-cba0-42dd-e910-d9f80cea8cfa"
      },
      "source": [
        "Accuracy(vallabel, valpred)"
      ],
      "execution_count": null,
      "outputs": [
        {
          "output_type": "execute_result",
          "data": {
            "text/plain": [
              "0.31052208835341366"
            ]
          },
          "metadata": {},
          "execution_count": 155
        }
      ]
    },
    {
      "cell_type": "code",
      "metadata": {
        "id": "2u0bveZM-i2Z"
      },
      "source": [
        "train_splits = [25,35,45,55,65,75,85,95,99,99.9]\n",
        "val_splits = [75,65,55,45,35,25,15,5,1,0.1]"
      ],
      "execution_count": null,
      "outputs": []
    },
    {
      "cell_type": "code",
      "metadata": {
        "colab": {
          "base_uri": "https://localhost:8080/"
        },
        "id": "kXWsbB_4nQFX",
        "outputId": "61cb5e1f-d37a-42fe-fddf-ce05bf92e776"
      },
      "source": [
        "for i in train_splits:\n",
        "  print(i)"
      ],
      "execution_count": null,
      "outputs": [
        {
          "output_type": "stream",
          "name": "stdout",
          "text": [
            "25\n",
            "35\n",
            "45\n",
            "55\n",
            "65\n",
            "75\n",
            "85\n",
            "95\n",
            "99\n",
            "99.9\n"
          ]
        }
      ]
    },
    {
      "cell_type": "code",
      "metadata": {
        "colab": {
          "base_uri": "https://localhost:8080/"
        },
        "id": "59vM9U0uxCrI",
        "outputId": "6e60e7ab-1d38-4c1d-c29c-7efe1435033c"
      },
      "source": [
        "for i in train_splits:\n",
        "  traindata, trainlabel, valdata, vallabel = split(alltraindata, alltrainlabel, i/100)\n",
        "  valpred = NN(traindata, trainlabel, valdata)\n",
        "  valAccuracy = Accuracy(vallabel, valpred)\n",
        "  print(\"Validation accuracy of nearest neighbour is \", valAccuracy)\n",
        "\n",
        "  valpred_RC = RandomClassifier(traindata, trainlabel, valdata)\n",
        "  valAccuracy_RC = Accuracy(vallabel, valpred_RC)\n",
        "  print(\"Validation accuracy using random classifier is \", valAccuracy_RC)\n",
        "\n",
        "  testpred = NN(alltraindata, alltrainlabel, testdata)\n",
        "  testAccuracy = Accuracy(testlabel, testpred)\n",
        "  print('Test accuracy is ', testAccuracy)\n",
        "\n",
        "  testpred_usingval = NN(valdata, vallabel, testdata)\n",
        "  testAccuracy_usingval = Accuracy(testlabel, testpred_usingval)\n",
        "  print('Test accuracy using validation set is ', testAccuracy_usingval)\n",
        "  val_accuracies.append([valAccuracy, valAccuracy_RC, testAccuracy, testAccuracy_usingval])"
      ],
      "execution_count": null,
      "outputs": [
        {
          "output_type": "stream",
          "name": "stdout",
          "text": [
            "Validation accuracy of nearest neighbour is  0.31610770719122866\n",
            "Validation accuracy using random classifier is  0.1606739761367301\n",
            "Test accuracy is  0.3395904436860068\n",
            "Test accuracy using validation set is  0.3356899073622623\n",
            "Validation accuracy of nearest neighbour is  0.31940437412750117\n",
            "Validation accuracy using random classifier is  0.15877152163797115\n",
            "Test accuracy is  0.3395904436860068\n",
            "Test accuracy using validation set is  0.3369088249634325\n",
            "Validation accuracy of nearest neighbour is  0.3342477778997037\n",
            "Validation accuracy using random classifier is  0.16613628881817183\n",
            "Test accuracy is  0.3395904436860068\n",
            "Test accuracy using validation set is  0.33764017552413456\n",
            "Validation accuracy of nearest neighbour is  0.3321593064210241\n",
            "Validation accuracy using random classifier is  0.17231102682199945\n",
            "Test accuracy is  0.3395904436860068\n",
            "Test accuracy using validation set is  0.3303266699171136\n",
            "Validation accuracy of nearest neighbour is  0.33367983367983367\n",
            "Validation accuracy using random classifier is  0.16632016632016633\n",
            "Test accuracy is  0.3395904436860068\n",
            "Test accuracy using validation set is  0.3203315455875183\n",
            "Validation accuracy of nearest neighbour is  0.35754054708303074\n",
            "Validation accuracy using random classifier is  0.16073589929799081\n",
            "Test accuracy is  0.3395904436860068\n",
            "Test accuracy using validation set is  0.30570453437347633\n",
            "Validation accuracy of nearest neighbour is  0.3532457188371167\n",
            "Validation accuracy using random classifier is  0.16885702907208283\n",
            "Test accuracy is  0.3395904436860068\n",
            "Test accuracy using validation set is  0.3100926377376889\n",
            "Validation accuracy of nearest neighbour is  0.3877038895859473\n",
            "Validation accuracy using random classifier is  0.18444165621079048\n",
            "Test accuracy is  0.3395904436860068\n",
            "Test accuracy using validation set is  0.295709410043881\n",
            "Validation accuracy of nearest neighbour is  0.26380368098159507\n",
            "Validation accuracy using random classifier is  0.18404907975460122\n",
            "Test accuracy is  0.3395904436860068\n",
            "Test accuracy using validation set is  0.27840078010726477\n",
            "Validation accuracy of nearest neighbour is  0.45\n",
            "Validation accuracy using random classifier is  0.2\n",
            "Test accuracy is  0.3395904436860068\n",
            "Test accuracy using validation set is  0.250121891760117\n"
          ]
        }
      ]
    },
    {
      "cell_type": "code",
      "metadata": {
        "id": "9kF5GmSknqln"
      },
      "source": [
        "VA_NN = [nn[0] for nn in val_accuracies]\n",
        "VA_RC = [nn[1] for nn in val_accuracies]\n",
        "TA = [nn[2] for nn in val_accuracies]\n",
        "TA_usingval = [nn[3] for nn in val_accuracies]"
      ],
      "execution_count": null,
      "outputs": []
    },
    {
      "cell_type": "code",
      "metadata": {
        "colab": {
          "base_uri": "https://localhost:8080/"
        },
        "id": "1F-FsfMGWNPs",
        "outputId": "9697f941-344e-4257-9f27-bf8cad25fb51"
      },
      "source": [
        "val_accuracies"
      ],
      "execution_count": null,
      "outputs": [
        {
          "output_type": "execute_result",
          "data": {
            "text/plain": [
              "[[0.31610770719122866,\n",
              "  0.1606739761367301,\n",
              "  0.3395904436860068,\n",
              "  0.3356899073622623],\n",
              " [0.31940437412750117,\n",
              "  0.15877152163797115,\n",
              "  0.3395904436860068,\n",
              "  0.3369088249634325],\n",
              " [0.3342477778997037,\n",
              "  0.16613628881817183,\n",
              "  0.3395904436860068,\n",
              "  0.33764017552413456],\n",
              " [0.3321593064210241,\n",
              "  0.17231102682199945,\n",
              "  0.3395904436860068,\n",
              "  0.3303266699171136],\n",
              " [0.33367983367983367,\n",
              "  0.16632016632016633,\n",
              "  0.3395904436860068,\n",
              "  0.3203315455875183],\n",
              " [0.35754054708303074,\n",
              "  0.16073589929799081,\n",
              "  0.3395904436860068,\n",
              "  0.30570453437347633],\n",
              " [0.3532457188371167,\n",
              "  0.16885702907208283,\n",
              "  0.3395904436860068,\n",
              "  0.3100926377376889],\n",
              " [0.3877038895859473,\n",
              "  0.18444165621079048,\n",
              "  0.3395904436860068,\n",
              "  0.295709410043881],\n",
              " [0.26380368098159507,\n",
              "  0.18404907975460122,\n",
              "  0.3395904436860068,\n",
              "  0.27840078010726477],\n",
              " [0.45, 0.2, 0.3395904436860068, 0.250121891760117]]"
            ]
          },
          "metadata": {},
          "execution_count": 168
        }
      ]
    },
    {
      "cell_type": "code",
      "metadata": {
        "colab": {
          "base_uri": "https://localhost:8080/",
          "height": 297
        },
        "id": "HGRgE6b0oEgr",
        "outputId": "efc19a37-c6e8-49f5-d640-d349109a55db"
      },
      "source": [
        "plt.plot(train_splits, VA_NN, label='Validation accuracy of nearest neighbour')\n",
        "plt.legend()\n",
        "plt.plot(train_splits, VA_RC, label='Validation accuracy of Random Classifier')\n",
        "plt.legend()\n",
        "plt.plot(train_splits, TA, label= 'Test accuracy')\n",
        "plt.legend()\n",
        "plt.plot(train_splits, TA_usingval, label= 'Test accuracy using validation set')\n",
        "plt.legend()\n",
        "plt.xlabel('Training Set Percentage Splits ')"
      ],
      "execution_count": null,
      "outputs": [
        {
          "output_type": "execute_result",
          "data": {
            "text/plain": [
              "Text(0.5, 0, 'Training Set Percentage Splits ')"
            ]
          },
          "metadata": {},
          "execution_count": 196
        },
        {
          "output_type": "display_data",
          "data": {
            "image/png": "[encoded data removed]",
            "text/plain": [
              "<Figure size 432x288 with 1 Axes>"
            ]
          },
          "metadata": {
            "needs_background": "light"
          }
        }
      ]
    },
    {
      "cell_type": "markdown",
      "metadata": {
        "id": "w3dGD531K3gH"
      },
      "source": [
        "### Try it out for yourself and answer:\n",
        "1. How is the accuracy of the validation set affected if we increase the percentage of validation set? What happens when we reduce it?\n",
        "\n",
        "As we increase the size of the validation dataset, we observe that the validation accuracy decreases. And as we reduce the size of the validation dataset, we observe that the validation accuracy increases. \n",
        "\n",
        "2. How does the size of the train and validation set affect how well we can predict the accuracy on the test set using the validation set?\n",
        "\n",
        "As the training set increases (validation set decreases), then the test accuracy using validation set decreases. And as the training set decreases (validation set increases), then the test accuracy using validation set increases. \n",
        "\n",
        "3. What do you think is a good percentage to reserve for the validation set so that thest two factors are balanced? \n",
        "\n",
        "Answer for both nearest neighbour and random classifier. You can note down the values for your experiments and plot a graph using  <a href=https://matplotlib.org/stable/gallery/lines_bars_and_markers/step_demo.html#sphx-glr-gallery-lines-bars-and-markers-step-demo-py>plt.plot<href>. Check also for extreme values for splits, like 99.9% or 0.1%\n",
        "\n",
        "It will be a good to have 60-70% of the dataset for training, and 15-20% for validation, and 15-20% for testing. \n",
        "\n",
        "For extreme values (using 99.9% for training data and 0.1% for validation data), both the validation accuracy and the testing accuracy using validation data decrease significantly.\n",
        "\n"
      ]
    },
    {
      "cell_type": "markdown",
      "metadata": {
        "id": "PnYvkAZLQY7h"
      },
      "source": [
        "## Multiple Splits\n",
        "\n",
        "One way to get more accurate estimates for the test accuracy is by using <b>crossvalidation</b>. Here, we will try a simple version, where we do multiple train/val splits and take the average of validation accuracies as the test accuracy estimation. Here is a function for doing this. Note that this function will take a long time to execute. "
      ]
    },
    {
      "cell_type": "code",
      "metadata": {
        "id": "E4nGCUQXBTzo"
      },
      "source": [
        "# you can use this function for random classifier also\n",
        "def AverageAccuracy(alldata, alllabel, splitpercent, iterations, classifier=NN):\n",
        "  accuracy = 0\n",
        "  for ii in range(iterations):\n",
        "    traindata, trainlabel, valdata, vallabel = split(alldata, alllabel, splitpercent)\n",
        "    valpred = classifier(traindata, trainlabel, valdata)\n",
        "    accuracy += Accuracy(vallabel, valpred)\n",
        "  return accuracy/iterations # average of all accuracies"
      ],
      "execution_count": null,
      "outputs": []
    },
    {
      "cell_type": "code",
      "metadata": {
        "id": "H3qtNar7Bbik",
        "colab": {
          "base_uri": "https://localhost:8080/"
        },
        "outputId": "bcada0ac-7a30-4c20-86f8-83d3f4b0b306"
      },
      "source": [
        "print('Average validation accuracy is ', AverageAccuracy(alltraindata, alltrainlabel, 75/100, 10, classifier=NN))\n",
        "testpred = NN(alltraindata, alltrainlabel, testdata)\n",
        "print('test accuracy is ',Accuracy(testlabel, testpred) )"
      ],
      "execution_count": null,
      "outputs": [
        {
          "output_type": "stream",
          "name": "stdout",
          "text": [
            "Average validation accuracy is  0.343631036611673\n",
            "test accuracy is  0.3395904436860068\n"
          ]
        }
      ]
    },
    {
      "cell_type": "code",
      "metadata": {
        "colab": {
          "base_uri": "https://localhost:8080/"
        },
        "id": "0pUDB-maS3gQ",
        "outputId": "cb0cbf01-d1da-4ff2-8bce-77412177af34"
      },
      "source": [
        "for i in train_splits:\n",
        "  print('Average validation accuracy is ', AverageAccuracy(alltraindata, alltrainlabel, i/100, 5, classifier=NN))\n",
        "  testpred = NN(alltraindata, alltrainlabel, testdata)\n",
        "  print('test accuracy is ',Accuracy(testlabel, testpred) )"
      ],
      "execution_count": null,
      "outputs": [
        {
          "output_type": "stream",
          "name": "stdout",
          "text": [
            "Average validation accuracy is  0.3129911097482946\n",
            "test accuracy is  0.3395904436860068\n",
            "Average validation accuracy is  0.32066560099816116\n",
            "test accuracy is  0.3395904436860068\n",
            "Average validation accuracy is  0.3267145659639825\n",
            "test accuracy is  0.3395904436860068\n",
            "Average validation accuracy is  0.3353053102149637\n",
            "test accuracy is  0.3395904436860068\n",
            "Average validation accuracy is  0.33888373038353137\n",
            "test accuracy is  0.3395904436860068\n",
            "Average validation accuracy is  0.34203278110729574\n",
            "test accuracy is  0.3395904436860068\n",
            "Average validation accuracy is  0.35401163571934297\n",
            "test accuracy is  0.3395904436860068\n",
            "Average validation accuracy is  0.33624445258149205\n",
            "test accuracy is  0.3395904436860068\n",
            "Average validation accuracy is  0.35065951916829113\n",
            "test accuracy is  0.3395904436860068\n",
            "Average validation accuracy is  0.3145406383897432\n",
            "test accuracy is  0.3395904436860068\n"
          ]
        }
      ]
    },
    {
      "cell_type": "code",
      "metadata": {
        "colab": {
          "base_uri": "https://localhost:8080/"
        },
        "id": "XMp56jWGNuIB",
        "outputId": "d48cfd26-9793-4ea7-8369-15572b49a066"
      },
      "source": [
        "for i in train_splits:\n",
        "  print('Average validation accuracy is ', AverageAccuracy(alltraindata, alltrainlabel, i/100, 7, classifier=NN))\n",
        "  testpred = NN(alltraindata, alltrainlabel, testdata)\n",
        "  print('test accuracy is ',Accuracy(testlabel, testpred) )"
      ],
      "execution_count": null,
      "outputs": [
        {
          "output_type": "stream",
          "name": "stdout",
          "text": [
            "Average validation accuracy is  0.31166332323380436\n",
            "test accuracy is  0.3395904436860068\n",
            "Average validation accuracy is  0.3235244787111881\n",
            "test accuracy is  0.3395904436860068\n",
            "Average validation accuracy is  0.33012159293806626\n",
            "test accuracy is  0.3395904436860068\n",
            "Average validation accuracy is  0.3367132198240883\n",
            "test accuracy is  0.3395904436860068\n",
            "Average validation accuracy is  0.34011943098653924\n",
            "test accuracy is  0.3395904436860068\n",
            "Average validation accuracy is  0.34234903065508865\n",
            "test accuracy is  0.3395904436860068\n",
            "Average validation accuracy is  0.3604629169216282\n",
            "test accuracy is  0.3395904436860068\n",
            "Average validation accuracy is  0.35144815108221467\n",
            "test accuracy is  0.3395904436860068\n",
            "Average validation accuracy is  0.357663206474305\n",
            "test accuracy is  0.3395904436860068\n",
            "Average validation accuracy is  0.3676201249730661\n",
            "test accuracy is  0.3395904436860068\n"
          ]
        }
      ]
    },
    {
      "cell_type": "code",
      "metadata": {
        "colab": {
          "base_uri": "https://localhost:8080/"
        },
        "id": "x_2vqmnZta6c",
        "outputId": "2ed83c74-d0b5-474e-e713-7a749a06e6ff"
      },
      "source": [
        "for i in train_splits:\n",
        "  print('Average validation accuracy is ', AverageAccuracy(alltraindata, alltrainlabel, i/100, 10, classifier=NN))\n",
        "  testpred = NN(alltraindata, alltrainlabel, testdata)\n",
        "  print('test accuracy is ',Accuracy(testlabel, testpred) )"
      ],
      "execution_count": null,
      "outputs": [
        {
          "output_type": "stream",
          "name": "stdout",
          "text": [
            "Average validation accuracy is  0.31302158149354536\n",
            "test accuracy is  0.3395904436860068\n",
            "Average validation accuracy is  0.32244178411684543\n",
            "test accuracy is  0.3395904436860068\n",
            "Average validation accuracy is  0.3271694997838915\n",
            "test accuracy is  0.3395904436860068\n",
            "Average validation accuracy is  0.33529520563378157\n",
            "test accuracy is  0.3395904436860068\n",
            "Average validation accuracy is  0.3370818861164614\n",
            "test accuracy is  0.3395904436860068\n",
            "Average validation accuracy is  0.34465445786650634\n",
            "test accuracy is  0.3395904436860068\n",
            "Average validation accuracy is  0.3448934414395017\n",
            "test accuracy is  0.3395904436860068\n",
            "Average validation accuracy is  0.3466020553857131\n",
            "test accuracy is  0.3395904436860068\n",
            "Average validation accuracy is  0.3340462262817786\n",
            "test accuracy is  0.3395904436860068\n",
            "Average validation accuracy is  0.3894495020230314\n",
            "test accuracy is  0.3395904436860068\n"
          ]
        }
      ]
    },
    {
      "cell_type": "code",
      "metadata": {
        "colab": {
          "base_uri": "https://localhost:8080/"
        },
        "id": "y4jt9xFK-WPt",
        "outputId": "7821ad9d-b012-4961-90eb-eb0d0d5f223b"
      },
      "source": [
        "for i in train_splits:\n",
        "  print('Average validation accuracy is ', AverageAccuracy(alltraindata, alltrainlabel, i/100, 15, classifier=NN))\n",
        "  testpred = NN(alltraindata, alltrainlabel, testdata)\n",
        "  print('test accuracy is ',Accuracy(testlabel, testpred) )"
      ],
      "execution_count": null,
      "outputs": [
        {
          "output_type": "stream",
          "name": "stdout",
          "text": [
            "Average validation accuracy is  0.3137426358514494\n",
            "test accuracy is  0.3395904436860068\n",
            "Average validation accuracy is  0.3234656814877593\n",
            "test accuracy is  0.3395904436860068\n",
            "Average validation accuracy is  0.3280590419932014\n",
            "test accuracy is  0.3395904436860068\n",
            "Average validation accuracy is  0.33621897153272806\n",
            "test accuracy is  0.3395904436860068\n",
            "Average validation accuracy is  0.34061023387082184\n",
            "test accuracy is  0.3395904436860068\n",
            "Average validation accuracy is  0.3446529593559831\n",
            "test accuracy is  0.3395904436860068\n",
            "Average validation accuracy is  0.34647533535960395\n",
            "test accuracy is  0.3395904436860068\n",
            "Average validation accuracy is  0.34637086865616146\n",
            "test accuracy is  0.3395904436860068\n",
            "Average validation accuracy is  0.36414298627216196\n",
            "test accuracy is  0.3395904436860068\n",
            "Average validation accuracy is  0.38770923047777267\n",
            "test accuracy is  0.3395904436860068\n"
          ]
        }
      ]
    },
    {
      "cell_type": "code",
      "metadata": {
        "colab": {
          "base_uri": "https://localhost:8080/"
        },
        "id": "C5HFPtOnDEYf",
        "outputId": "bdedbc3c-4273-441e-9c96-e306c8a159c6"
      },
      "source": [
        "for i in train_splits:\n",
        "  print('Average validation accuracy is ', AverageAccuracy(alltraindata, alltrainlabel, i/100, 20, classifier=NN))\n",
        "  testpred = NN(alltraindata, alltrainlabel, testdata)\n",
        "  print('test accuracy is ',Accuracy(testlabel, testpred) )"
      ],
      "execution_count": null,
      "outputs": [
        {
          "output_type": "stream",
          "name": "stdout",
          "text": [
            "Average validation accuracy is  0.31359213471811165\n",
            "test accuracy is  0.3395904436860068\n",
            "Average validation accuracy is  0.321777626415804\n",
            "test accuracy is  0.3395904436860068\n",
            "Average validation accuracy is  0.3311918879154286\n",
            "test accuracy is  0.3395904436860068\n",
            "Average validation accuracy is  0.33486783206340465\n",
            "test accuracy is  0.3395904436860068\n",
            "Average validation accuracy is  0.34000967367127344\n",
            "test accuracy is  0.3395904436860068\n",
            "Average validation accuracy is  0.3456785878158415\n",
            "test accuracy is  0.3395904436860068\n",
            "Average validation accuracy is  0.3498150599157103\n",
            "test accuracy is  0.3395904436860068\n",
            "Average validation accuracy is  0.3562521282565344\n",
            "test accuracy is  0.3395904436860068\n",
            "Average validation accuracy is  0.3586666290054924\n",
            "test accuracy is  0.3395904436860068\n",
            "Average validation accuracy is  0.3441275263027854\n",
            "test accuracy is  0.3395904436860068\n"
          ]
        }
      ]
    },
    {
      "cell_type": "markdown",
      "metadata": {
        "id": "33GIn4x5VH-d"
      },
      "source": [
        "This is a very simple way of doing cross-validation. There are many well-known algorithms for cross-validation, like k-fold cross-validation, leave-one-out etc. This will be covered in detail in a later module. For more information about cross-validation, check <a href=https://en.wikipedia.org/wiki/Cross-validation_(statistics)>Cross-validatioin (Wikipedia)</a>\n",
        "\n",
        "### Questions\n",
        "1. Does averaging the validation accuracy across multiple splits give more consistent results?\n",
        "\n",
        "Yes, Averaging the validation accuracy gives more consistent results\n",
        "\n",
        "2. Does it give more accurate estimate of test accuracy?\n",
        "\n",
        "Test accuracy is stable when the test data is kept constant, and the train-validation datasets are run across multiple splits. However test accuracy is more accurate as you increase the size of the train-validation dataset, and that allows for better training, and gives more accurate estimate of test accuracy. \n",
        "\n",
        "3. What is the effect of the number of iterations on the estimate? Do we get a better estimate with higher iterations?\n",
        "\n",
        "Number of iterations doesn't have significant impact on the accuracy rates especially as we iterate beyond 10 times. We don't necessarily get better estimates with higher iterations. \n",
        "\n",
        "4. Consider the results you got for the previous questions. Can we deal with a very small train dataset or validation dataset by increasing the iterations?\n",
        "\n",
        "The answer is No. Just increasing the Number of iterations on a small train dataset is not helpful. We need a larger train dataset.\n"
      ]
    },
    {
      "cell_type": "code",
      "metadata": {
        "id": "1WileBUqC404"
      },
      "source": [
        ""
      ],
      "execution_count": null,
      "outputs": []
    }
  ]
}