{
  "nbformat": 4,
  "nbformat_minor": 0,
  "metadata": {
    "colab": {
      "name": "05_Flow_control_statement_For_loop.ipynb",
      "provenance": [],
      "include_colab_link": true
    },
    "kernelspec": {
      "name": "python3",
      "display_name": "Python 3"
    },
    "language_info": {
      "name": "python"
    }
  },
  "cells": [
    {
      "cell_type": "markdown",
      "metadata": {
        "id": "view-in-github",
        "colab_type": "text"
      },
      "source": [
        "<a href=\"https://colab.research.google.com/github/macrodatascience/fmml2021/blob/main/05_Flow_control_statement_For_loop.ipynb\" target=\"_parent\"><img src=\"https://colab.research.google.com/assets/colab-badge.svg\" alt=\"Open In Colab\"/></a>"
      ]
    },
    {
      "cell_type": "markdown",
      "metadata": {
        "id": "61f388Jksnz-"
      },
      "source": [
        "### Flow control using for-loop\n",
        "#### 'For' statement is used for iterating over an arithmetic progression of numbers"
      ]
    },
    {
      "cell_type": "code",
      "metadata": {
        "id": "lHexb1UAseK6",
        "outputId": "5817562c-f19c-4cf4-de3d-358c0f71527d",
        "colab": {
          "base_uri": "https://localhost:8080/"
        }
      },
      "source": [
        "# range\n",
        "for i in range(9, 19, 3):\n",
        "  print (i, end=\" \")"
      ],
      "execution_count": 1,
      "outputs": [
        {
          "output_type": "stream",
          "name": "stdout",
          "text": [
            "9 12 15 18 "
          ]
        }
      ]
    },
    {
      "cell_type": "markdown",
      "metadata": {
        "id": "avgXS5ante_t"
      },
      "source": [
        "#### 'For' statement is also used for iterating over the items of any sequence (a list or a string), in the order that they appear in the sequence."
      ]
    },
    {
      "cell_type": "code",
      "metadata": {
        "id": "8YRJCPP2vVPe",
        "outputId": "f41934c8-210f-43e0-f202-672095e3b9d0",
        "colab": {
          "base_uri": "https://localhost:8080/"
        }
      },
      "source": [
        "# list\n",
        "my_list = [1, 2, 3, 4]\n",
        "for each_item in my_list:\n",
        "  print (each_item, end=\" \")"
      ],
      "execution_count": 2,
      "outputs": [
        {
          "output_type": "stream",
          "name": "stdout",
          "text": [
            "1 2 3 4 "
          ]
        }
      ]
    },
    {
      "cell_type": "code",
      "metadata": {
        "id": "EIPO-Aab0fMk"
      },
      "source": [
        "my_list = ['a', 'e', 'i', 'o', 'u']\n"
      ],
      "execution_count": 3,
      "outputs": []
    },
    {
      "cell_type": "code",
      "metadata": {
        "id": "lWRcH-oE0nr6",
        "outputId": "dcc1ca0e-376c-434b-f0f1-e1d0b2926f4e",
        "colab": {
          "base_uri": "https://localhost:8080/"
        }
      },
      "source": [
        "test_char = input(\"Enter Character: \")"
      ],
      "execution_count": 4,
      "outputs": [
        {
          "name": "stdout",
          "output_type": "stream",
          "text": [
            "Enter Character: Y\n"
          ]
        }
      ]
    },
    {
      "cell_type": "code",
      "metadata": {
        "id": "29kLJv6-0xfe"
      },
      "source": [
        "test_result = 'consonant'\n",
        "for each_char in my_list:\n",
        "  if (each_char == test_char.lower()):\n",
        "    test_result = 'vowel'\n",
        "    break"
      ],
      "execution_count": 6,
      "outputs": []
    },
    {
      "cell_type": "code",
      "metadata": {
        "id": "FXsvQh-C1C-m",
        "outputId": "34988736-67f5-4ae3-838b-c5b395e8147e",
        "colab": {
          "base_uri": "https://localhost:8080/"
        }
      },
      "source": [
        "print (test_result)"
      ],
      "execution_count": 7,
      "outputs": [
        {
          "output_type": "stream",
          "name": "stdout",
          "text": [
            "consonant\n"
          ]
        }
      ]
    },
    {
      "cell_type": "code",
      "metadata": {
        "id": "bStyS27cudqK"
      },
      "source": [
        "# list comprehension\n",
        "# create a list of all odd numbers from 1 to 20\n",
        "my_list = [number for number in range(1,20,2)]"
      ],
      "execution_count": 8,
      "outputs": []
    },
    {
      "cell_type": "code",
      "metadata": {
        "id": "IbKt_IhW6Z4z",
        "outputId": "c76153da-086c-406f-d84e-0f339c4b30e2",
        "colab": {
          "base_uri": "https://localhost:8080/"
        }
      },
      "source": [
        "my_list"
      ],
      "execution_count": 9,
      "outputs": [
        {
          "output_type": "execute_result",
          "data": {
            "text/plain": [
              "[1, 3, 5, 7, 9, 11, 13, 15, 17, 19]"
            ]
          },
          "metadata": {},
          "execution_count": 9
        }
      ]
    },
    {
      "cell_type": "code",
      "metadata": {
        "id": "1G1IBIr6p6b6"
      },
      "source": [
        "# list comprehension - another approach using \"if\" condition\n",
        "# create a list of all odd numbers from 1 to 20\n",
        "my_list = [number for number in range(1,20) if (number % 2 == 1)]"
      ],
      "execution_count": 11,
      "outputs": []
    },
    {
      "cell_type": "code",
      "metadata": {
        "id": "ahswgAU_qBVR",
        "outputId": "d76a4acc-9ea4-4580-8734-eb5868ac3fe5",
        "colab": {
          "base_uri": "https://localhost:8080/"
        }
      },
      "source": [
        "my_list"
      ],
      "execution_count": 12,
      "outputs": [
        {
          "output_type": "execute_result",
          "data": {
            "text/plain": [
              "[1, 3, 5, 7, 9, 11, 13, 15, 17, 19]"
            ]
          },
          "metadata": {},
          "execution_count": 12
        }
      ]
    },
    {
      "cell_type": "markdown",
      "metadata": {
        "id": "aZLHbgPMujrA"
      },
      "source": [
        "#### Exercise: Given a list of integers, write a for-loop to create a list of its squares."
      ]
    },
    {
      "cell_type": "code",
      "metadata": {
        "id": "2Kw7G5iCumaY",
        "outputId": "0f913125-bd1e-4279-ee0e-49a01fa12d12",
        "colab": {
          "base_uri": "https://localhost:8080/"
        }
      },
      "source": [
        "# for instance if input list is [1, 2, 3, 4],  you need to create a list [1, 4, 9, 16]\n",
        "\n",
        "input_list = input(\"Enter  the list\").split()"
      ],
      "execution_count": 18,
      "outputs": [
        {
          "name": "stdout",
          "output_type": "stream",
          "text": [
            "Enter  the list1 2 3 4 5\n"
          ]
        }
      ]
    },
    {
      "cell_type": "code",
      "metadata": {
        "id": "hwZqmIQRvRW1",
        "outputId": "5c67f72d-b494-41fd-ec1a-b5eec71d170e",
        "colab": {
          "base_uri": "https://localhost:8080/"
        }
      },
      "source": [
        "a = []\n",
        "for each in input_list:\n",
        "  a.append(int(each)**2)\n",
        "print(a)"
      ],
      "execution_count": 22,
      "outputs": [
        {
          "output_type": "stream",
          "name": "stdout",
          "text": [
            "[1, 4, 9, 16, 25]\n"
          ]
        }
      ]
    },
    {
      "cell_type": "markdown",
      "metadata": {
        "id": "vqYJMprj-beV"
      },
      "source": [
        "Reference:\n",
        "[Python Documentation on Control Statements](https://docs.python.org/3/tutorial/controlflow.html)"
      ]
    }
  ]
}