{
  "nbformat": 4,
  "nbformat_minor": 0,
  "metadata": {
    "colab": {
      "name": "10_Problem_Solution.ipynb",
      "provenance": [],
      "include_colab_link": true
    },
    "kernelspec": {
      "name": "python3",
      "display_name": "Python 3"
    },
    "language_info": {
      "name": "python"
    }
  },
  "cells": [
    {
      "cell_type": "markdown",
      "metadata": {
        "id": "view-in-github",
        "colab_type": "text"
      },
      "source": [
        "<a href=\"https://colab.research.google.com/github/macrodatascience/fmml2021/blob/main/10_Problem_Solution.ipynb\" target=\"_parent\"><img src=\"https://colab.research.google.com/assets/colab-badge.svg\" alt=\"Open In Colab\"/></a>"
      ]
    },
    {
      "cell_type": "code",
      "metadata": {
        "id": "4tHdnVmZSQIR"
      },
      "source": [
        "# Madagascar problem"
      ],
      "execution_count": null,
      "outputs": []
    },
    {
      "cell_type": "code",
      "metadata": {
        "id": "KkTnYRbjSZ4g"
      },
      "source": [
        "import numpy as np"
      ],
      "execution_count": 1,
      "outputs": []
    },
    {
      "cell_type": "code",
      "metadata": {
        "id": "vbsZHOPVSbYh"
      },
      "source": [
        "# List of Citizen IDs\n",
        "CitizenID = ['AAA', 'AAB', 'ACA', 'ABB']\n",
        "\n",
        "# Features - Age, Sugar Level (Blood), Pollutant Level (Air)\n",
        "A = np.array([[20, 122, 20], [35,180, 35],[50, 220, 65], [70, 300, 30]])\n",
        "\n",
        "# Feature Weights \n",
        "x = np.array([[0.05], [0.002], [0.02]])"
      ],
      "execution_count": 9,
      "outputs": []
    },
    {
      "cell_type": "code",
      "metadata": {
        "id": "4CvxUBB8U0PA"
      },
      "source": [
        "# 4x3 . 3x1 = 4x1"
      ],
      "execution_count": null,
      "outputs": []
    },
    {
      "cell_type": "code",
      "metadata": {
        "id": "PSJBzTZzSdzT"
      },
      "source": [
        "# Risk Factors Calculated and Adjusted for Threshold value \n",
        "\n",
        "y = np.matmul(A,x) - 4.0"
      ],
      "execution_count": 10,
      "outputs": []
    },
    {
      "cell_type": "code",
      "metadata": {
        "id": "Um0CIsH1VJPi"
      },
      "source": [
        "# Feature Matrix including Adjusted Risk Factor (Net of Threshold value)\n",
        "Z = np.hstack((A,y))"
      ],
      "execution_count": 11,
      "outputs": []
    },
    {
      "cell_type": "code",
      "metadata": {
        "id": "Oryf-5goVTxG",
        "outputId": "255fadbc-9ed0-4658-f8c3-99c7034c3d01",
        "colab": {
          "base_uri": "https://localhost:8080/"
        }
      },
      "source": [
        "\n",
        "Z"
      ],
      "execution_count": 5,
      "outputs": [
        {
          "output_type": "execute_result",
          "data": {
            "text/plain": [
              "array([[ 2.000e+01,  1.220e+02,  2.000e+01, -2.356e+00],\n",
              "       [ 3.500e+01,  1.800e+02,  3.500e+01, -1.190e+00],\n",
              "       [ 5.000e+01,  2.200e+02,  6.500e+01,  2.400e-01],\n",
              "       [ 7.000e+01,  3.000e+02,  3.000e+01,  7.000e-01]])"
            ]
          },
          "metadata": {},
          "execution_count": 5
        }
      ]
    },
    {
      "cell_type": "code",
      "metadata": {
        "id": "vQt6XMT8ViYW"
      },
      "source": [
        "# Citizen ID - List of Citizen IDs\n",
        "\n",
        "def RankArray(CitizenID, A, x):\n",
        "  y = np.dot(A,x) - 4.0\n",
        "  L = np.hstack((A,y))\n",
        "  L = L.tolist()\n",
        "  i = 0\n",
        "  for each in L:\n",
        "    if each[3]>0:\n",
        "      print(f\"Citizen with ID '{CitizenID[i]}' is prone to risk\".format(CitizenID[i]))\n",
        "    i+=1\n",
        "  return L"
      ],
      "execution_count": 38,
      "outputs": []
    },
    {
      "cell_type": "code",
      "metadata": {
        "id": "6VqMLbRWVwL3",
        "outputId": "09d315e5-8250-4b58-c02d-f74bfc67eb43",
        "colab": {
          "base_uri": "https://localhost:8080/"
        }
      },
      "source": [
        "print (RankArray(CitizenID,A,x))"
      ],
      "execution_count": 39,
      "outputs": [
        {
          "output_type": "stream",
          "name": "stdout",
          "text": [
            "Citizen with ID 'ACA' is prone to risk\n",
            "Citizen with ID 'ABB' is prone to risk\n",
            "[[20.0, 122.0, 20.0, -2.356], [35.0, 180.0, 35.0, -1.19], [50.0, 220.0, 65.0, 0.2400000000000002], [70.0, 300.0, 30.0, 0.7000000000000002]]\n"
          ]
        }
      ]
    },
    {
      "cell_type": "markdown",
      "metadata": {
        "id": "o8KXVp1m_3kh"
      },
      "source": [
        ""
      ]
    },
    {
      "cell_type": "code",
      "metadata": {
        "id": "z0eSTslY_pYb"
      },
      "source": [
        ""
      ],
      "execution_count": null,
      "outputs": []
    }
  ]
}