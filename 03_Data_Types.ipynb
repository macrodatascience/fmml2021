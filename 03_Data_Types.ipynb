{
  "nbformat": 4,
  "nbformat_minor": 0,
  "metadata": {
    "colab": {
      "name": "03_Data_Types.ipynb",
      "provenance": [],
      "toc_visible": true,
      "include_colab_link": true
    },
    "kernelspec": {
      "name": "python3",
      "display_name": "Python 3"
    },
    "language_info": {
      "name": "python"
    }
  },
  "cells": [
    {
      "cell_type": "markdown",
      "metadata": {
        "id": "view-in-github",
        "colab_type": "text"
      },
      "source": [
        "<a href=\"https://colab.research.google.com/github/macrodatascience/fmml2021/blob/main/03_Data_Types.ipynb\" target=\"_parent\"><img src=\"https://colab.research.google.com/assets/colab-badge.svg\" alt=\"Open In Colab\"/></a>"
      ]
    },
    {
      "cell_type": "markdown",
      "metadata": {
        "id": "CPk9Hiozv8JE"
      },
      "source": [
        "#### Basic Data Types - Integer, Float, Boolean, String, None"
      ]
    },
    {
      "cell_type": "code",
      "metadata": {
        "id": "FkdEec_QriO_"
      },
      "source": [
        "some_int = 3"
      ],
      "execution_count": 1,
      "outputs": []
    },
    {
      "cell_type": "code",
      "metadata": {
        "id": "IJ6gUIS24QPb",
        "outputId": "0355a553-8604-4e91-bcaf-743a9a3a83ba",
        "colab": {
          "base_uri": "https://localhost:8080/"
        }
      },
      "source": [
        "type(some_int)"
      ],
      "execution_count": 2,
      "outputs": [
        {
          "output_type": "execute_result",
          "data": {
            "text/plain": [
              "int"
            ]
          },
          "metadata": {},
          "execution_count": 2
        }
      ]
    },
    {
      "cell_type": "code",
      "metadata": {
        "id": "VTce7evQ0ZJ-"
      },
      "source": [
        "some_int += 4"
      ],
      "execution_count": 3,
      "outputs": []
    },
    {
      "cell_type": "code",
      "metadata": {
        "id": "F9kJID_q4Vul",
        "outputId": "c38d9a39-48e9-4a2a-c4c1-8d791e8e6087",
        "colab": {
          "base_uri": "https://localhost:8080/"
        }
      },
      "source": [
        "some_int"
      ],
      "execution_count": 4,
      "outputs": [
        {
          "output_type": "execute_result",
          "data": {
            "text/plain": [
              "7"
            ]
          },
          "metadata": {},
          "execution_count": 4
        }
      ]
    },
    {
      "cell_type": "code",
      "metadata": {
        "id": "tBmSj1-P0a52"
      },
      "source": [
        "some_other_int = int(5) # casting"
      ],
      "execution_count": 5,
      "outputs": []
    },
    {
      "cell_type": "code",
      "metadata": {
        "id": "Lmdkh7DI4d51",
        "outputId": "78e6fc47-e08a-4aef-82bf-c4fe75671362",
        "colab": {
          "base_uri": "https://localhost:8080/"
        }
      },
      "source": [
        "some_other_int"
      ],
      "execution_count": 6,
      "outputs": [
        {
          "output_type": "execute_result",
          "data": {
            "text/plain": [
              "5"
            ]
          },
          "metadata": {},
          "execution_count": 6
        }
      ]
    },
    {
      "cell_type": "code",
      "metadata": {
        "id": "iNTYkoVX0dAF"
      },
      "source": [
        "some_float = 3.0"
      ],
      "execution_count": 7,
      "outputs": []
    },
    {
      "cell_type": "code",
      "metadata": {
        "id": "8893F0us0e8U",
        "outputId": "cd79bea3-53eb-46af-dd81-8c421e73c9d6",
        "colab": {
          "base_uri": "https://localhost:8080/"
        }
      },
      "source": [
        "type (some_float)"
      ],
      "execution_count": 8,
      "outputs": [
        {
          "output_type": "execute_result",
          "data": {
            "text/plain": [
              "float"
            ]
          },
          "metadata": {},
          "execution_count": 8
        }
      ]
    },
    {
      "cell_type": "code",
      "metadata": {
        "id": "8-XVO-4P4npP",
        "outputId": "17bc826d-6bd1-46b9-d120-edbff5b68a10",
        "colab": {
          "base_uri": "https://localhost:8080/"
        }
      },
      "source": [
        "some_int = 3\n",
        "some_other_int = 8\n",
        "something = some_other_int / some_int\n",
        "type(something)\n",
        "print (something)"
      ],
      "execution_count": 9,
      "outputs": [
        {
          "output_type": "stream",
          "name": "stdout",
          "text": [
            "2.6666666666666665\n"
          ]
        }
      ]
    },
    {
      "cell_type": "code",
      "metadata": {
        "id": "Swz27lkw46p4"
      },
      "source": [
        "some_bool = False"
      ],
      "execution_count": 10,
      "outputs": []
    },
    {
      "cell_type": "code",
      "metadata": {
        "id": "1srLd0394-3g",
        "outputId": "fe438d08-66ce-4699-ff6a-db8561bf2ed0",
        "colab": {
          "base_uri": "https://localhost:8080/"
        }
      },
      "source": [
        "type(some_bool)"
      ],
      "execution_count": 11,
      "outputs": [
        {
          "output_type": "execute_result",
          "data": {
            "text/plain": [
              "bool"
            ]
          },
          "metadata": {},
          "execution_count": 11
        }
      ]
    },
    {
      "cell_type": "code",
      "metadata": {
        "id": "iVG3-KnQ5B2d",
        "outputId": "603940f2-1e66-413e-bceb-cc288704f96d",
        "colab": {
          "base_uri": "https://localhost:8080/"
        }
      },
      "source": [
        "some_other_bool = bool(False)\n",
        "some_other_bool"
      ],
      "execution_count": 12,
      "outputs": [
        {
          "output_type": "execute_result",
          "data": {
            "text/plain": [
              "False"
            ]
          },
          "metadata": {},
          "execution_count": 12
        }
      ]
    },
    {
      "cell_type": "code",
      "metadata": {
        "id": "9BaOPoPV5OWn",
        "outputId": "0b9a7237-7521-41b8-c324-c9dfa7c14f98",
        "colab": {
          "base_uri": "https://localhost:8080/"
        }
      },
      "source": [
        "bool()"
      ],
      "execution_count": 13,
      "outputs": [
        {
          "output_type": "execute_result",
          "data": {
            "text/plain": [
              "False"
            ]
          },
          "metadata": {},
          "execution_count": 13
        }
      ]
    },
    {
      "cell_type": "code",
      "metadata": {
        "id": "1clAB1Wn5Qsy",
        "outputId": "a3a1f564-efe6-40c1-c96b-aa2a73a12d5c",
        "colab": {
          "base_uri": "https://localhost:8080/"
        }
      },
      "source": [
        "bool([])"
      ],
      "execution_count": 14,
      "outputs": [
        {
          "output_type": "execute_result",
          "data": {
            "text/plain": [
              "False"
            ]
          },
          "metadata": {},
          "execution_count": 14
        }
      ]
    },
    {
      "cell_type": "code",
      "metadata": {
        "id": "ikc1wSRs5TPD",
        "outputId": "7cd10b46-602c-4a87-c321-e91244c2fbab",
        "colab": {
          "base_uri": "https://localhost:8080/"
        }
      },
      "source": [
        "bool({})"
      ],
      "execution_count": 15,
      "outputs": [
        {
          "output_type": "execute_result",
          "data": {
            "text/plain": [
              "False"
            ]
          },
          "metadata": {},
          "execution_count": 15
        }
      ]
    },
    {
      "cell_type": "code",
      "metadata": {
        "id": "YTfUKX2-5VdH",
        "outputId": "4407f42c-1ab2-4d3c-e3c6-17d9156ade88",
        "colab": {
          "base_uri": "https://localhost:8080/"
        }
      },
      "source": [
        "bool(())"
      ],
      "execution_count": 16,
      "outputs": [
        {
          "output_type": "execute_result",
          "data": {
            "text/plain": [
              "False"
            ]
          },
          "metadata": {},
          "execution_count": 16
        }
      ]
    },
    {
      "cell_type": "code",
      "metadata": {
        "id": "SfbHKsdH5Xq1",
        "outputId": "522542e9-2326-457f-e594-c2b2f3488925",
        "colab": {
          "base_uri": "https://localhost:8080/"
        }
      },
      "source": [
        "bool((1, 3))"
      ],
      "execution_count": 17,
      "outputs": [
        {
          "output_type": "execute_result",
          "data": {
            "text/plain": [
              "True"
            ]
          },
          "metadata": {},
          "execution_count": 17
        }
      ]
    },
    {
      "cell_type": "code",
      "metadata": {
        "id": "7bP-r-os5hTy"
      },
      "source": [
        "some_str = \"hello \"\n",
        "some_other_str = 'happy new year'"
      ],
      "execution_count": 18,
      "outputs": []
    },
    {
      "cell_type": "code",
      "metadata": {
        "id": "bKFczqox5nUc"
      },
      "source": [
        "merge_str = some_str + some_other_str # concatenation"
      ],
      "execution_count": 19,
      "outputs": []
    },
    {
      "cell_type": "code",
      "metadata": {
        "id": "rBqo7-ws5vw3",
        "outputId": "699471b4-fb69-4ff9-bba8-b75b1ece26e6",
        "colab": {
          "base_uri": "https://localhost:8080/"
        }
      },
      "source": [
        "print (merge_str)"
      ],
      "execution_count": 20,
      "outputs": [
        {
          "output_type": "stream",
          "name": "stdout",
          "text": [
            "hello happy new year\n"
          ]
        }
      ]
    },
    {
      "cell_type": "code",
      "metadata": {
        "id": "K29mB5kW6Bub",
        "outputId": "7e5b7f99-f444-4d56-be3a-2ad4888e4fd3",
        "colab": {
          "base_uri": "https://localhost:8080/"
        }
      },
      "source": [
        "for every_char in merge_str:\n",
        "  print (every_char)"
      ],
      "execution_count": 21,
      "outputs": [
        {
          "output_type": "stream",
          "name": "stdout",
          "text": [
            "h\n",
            "e\n",
            "l\n",
            "l\n",
            "o\n",
            " \n",
            "h\n",
            "a\n",
            "p\n",
            "p\n",
            "y\n",
            " \n",
            "n\n",
            "e\n",
            "w\n",
            " \n",
            "y\n",
            "e\n",
            "a\n",
            "r\n"
          ]
        }
      ]
    },
    {
      "cell_type": "code",
      "metadata": {
        "id": "zGEuwObI6mpi",
        "outputId": "0113befc-5e45-43c5-c55a-1a5d75025b13",
        "colab": {
          "base_uri": "https://localhost:8080/"
        }
      },
      "source": [
        "for every_char in merge_str: print (every_char, end=\"\")"
      ],
      "execution_count": 22,
      "outputs": [
        {
          "output_type": "stream",
          "name": "stdout",
          "text": [
            "hello happy new year"
          ]
        }
      ]
    },
    {
      "cell_type": "markdown",
      "metadata": {
        "id": "icfeOEilxRpS"
      },
      "source": [
        "#### Type Casting"
      ]
    },
    {
      "cell_type": "code",
      "metadata": {
        "id": "k4KUIUtMxkDs",
        "outputId": "0c47a964-cd22-46ed-dc63-8f9618f3846b",
        "colab": {
          "base_uri": "https://localhost:8080/"
        }
      },
      "source": [
        "i = 4\n",
        "j = float(i)\n",
        "print (j)"
      ],
      "execution_count": 23,
      "outputs": [
        {
          "output_type": "stream",
          "name": "stdout",
          "text": [
            "4.0\n"
          ]
        }
      ]
    },
    {
      "cell_type": "code",
      "metadata": {
        "id": "2emiqfVo2LXn",
        "outputId": "43e9f792-7819-4a8b-ac1e-34e954abf4c5",
        "colab": {
          "base_uri": "https://localhost:8080/"
        }
      },
      "source": [
        "type(j)"
      ],
      "execution_count": 24,
      "outputs": [
        {
          "output_type": "execute_result",
          "data": {
            "text/plain": [
              "float"
            ]
          },
          "metadata": {},
          "execution_count": 24
        }
      ]
    },
    {
      "cell_type": "code",
      "metadata": {
        "id": "eKw6bw3T2UhB",
        "outputId": "92f9750a-743d-4a64-e98e-f6545cf4fa4b",
        "colab": {
          "base_uri": "https://localhost:8080/"
        }
      },
      "source": [
        "i = int(j)\n",
        "type(i)"
      ],
      "execution_count": 25,
      "outputs": [
        {
          "output_type": "execute_result",
          "data": {
            "text/plain": [
              "int"
            ]
          },
          "metadata": {},
          "execution_count": 25
        }
      ]
    },
    {
      "cell_type": "code",
      "metadata": {
        "id": "l0pRioZH2ZFp",
        "outputId": "49e0cb50-9bce-4f3b-f09c-f979878e0ff1",
        "colab": {
          "base_uri": "https://localhost:8080/"
        }
      },
      "source": [
        "some_str = str(i)\n",
        "print(some_str)"
      ],
      "execution_count": 26,
      "outputs": [
        {
          "output_type": "stream",
          "name": "stdout",
          "text": [
            "4\n"
          ]
        }
      ]
    },
    {
      "cell_type": "code",
      "metadata": {
        "id": "tLKkWWrA2fOa",
        "outputId": "6b6758b6-18ae-4759-e647-07fa9fc0b7fb",
        "colab": {
          "base_uri": "https://localhost:8080/"
        }
      },
      "source": [
        "some_other_str = str(j)\n",
        "print (some_other_str)\n",
        "print (\"the new string now is \" + some_other_str) # string concatenation"
      ],
      "execution_count": 27,
      "outputs": [
        {
          "output_type": "stream",
          "name": "stdout",
          "text": [
            "4.0\n",
            "the new string now is 4.0\n"
          ]
        }
      ]
    },
    {
      "cell_type": "code",
      "metadata": {
        "id": "BzvOEP7S3DM7"
      },
      "source": [
        "some_bool = bool(some_other_str)"
      ],
      "execution_count": 28,
      "outputs": []
    },
    {
      "cell_type": "code",
      "metadata": {
        "id": "Ezy9S--R3ILJ",
        "outputId": "ce305e37-104e-44d8-a3c3-2afbf27b9b8b",
        "colab": {
          "base_uri": "https://localhost:8080/"
        }
      },
      "source": [
        "some_bool"
      ],
      "execution_count": 29,
      "outputs": [
        {
          "output_type": "execute_result",
          "data": {
            "text/plain": [
              "True"
            ]
          },
          "metadata": {},
          "execution_count": 29
        }
      ]
    },
    {
      "cell_type": "markdown",
      "metadata": {
        "id": "sIYTZKz11myP"
      },
      "source": [
        "#### Set"
      ]
    },
    {
      "cell_type": "code",
      "metadata": {
        "id": "pUSDI8dcVz0m"
      },
      "source": [
        "# Set - collection of items which are not in any particular order and are not indexed. \n",
        "# Duplicates are not allowed in set\n",
        "# Constructor is set()\n",
        "some_set = {'a', 'c', (2.3, 3.2, 2)}"
      ],
      "execution_count": 30,
      "outputs": []
    },
    {
      "cell_type": "code",
      "metadata": {
        "id": "OQ6C43GzVAiZ",
        "outputId": "e67dd893-e2fa-4e52-e974-c167c65d8b35",
        "colab": {
          "base_uri": "https://localhost:8080/"
        }
      },
      "source": [
        "some_set"
      ],
      "execution_count": 32,
      "outputs": [
        {
          "output_type": "execute_result",
          "data": {
            "text/plain": [
              "{(2.3, 3.2, 2), 'a', 'c'}"
            ]
          },
          "metadata": {},
          "execution_count": 32
        }
      ]
    },
    {
      "cell_type": "code",
      "metadata": {
        "id": "LtTv6v9rU3If"
      },
      "source": [
        "some_set.update([1, 2, 3])"
      ],
      "execution_count": 33,
      "outputs": []
    },
    {
      "cell_type": "code",
      "metadata": {
        "id": "9LP1hydIUOpH",
        "outputId": "616094e0-259b-4665-cf21-dcec3fd4b0dc",
        "colab": {
          "base_uri": "https://localhost:8080/"
        }
      },
      "source": [
        "some_set"
      ],
      "execution_count": 34,
      "outputs": [
        {
          "output_type": "execute_result",
          "data": {
            "text/plain": [
              "{(2.3, 3.2, 2), 1, 2, 3, 'a', 'c'}"
            ]
          },
          "metadata": {},
          "execution_count": 34
        }
      ]
    },
    {
      "cell_type": "code",
      "metadata": {
        "id": "fPA9CCQ8Q6IN",
        "outputId": "ed67691b-aed5-44fa-b96a-77fac4db7745",
        "colab": {
          "base_uri": "https://localhost:8080/"
        }
      },
      "source": [
        "type(some_set)"
      ],
      "execution_count": 35,
      "outputs": [
        {
          "output_type": "execute_result",
          "data": {
            "text/plain": [
              "set"
            ]
          },
          "metadata": {},
          "execution_count": 35
        }
      ]
    },
    {
      "cell_type": "code",
      "metadata": {
        "id": "4IZt6LPeVL3W"
      },
      "source": [
        "some_set.add(5)"
      ],
      "execution_count": 45,
      "outputs": []
    },
    {
      "cell_type": "code",
      "metadata": {
        "id": "xr8c_BjPVS18",
        "outputId": "e95c067b-7dfe-4e65-82de-54b5cba74806",
        "colab": {
          "base_uri": "https://localhost:8080/",
          "height": 52
        }
      },
      "source": [
        "print(some_set)\n",
        "some_set.pop()"
      ],
      "execution_count": 42,
      "outputs": [
        {
          "output_type": "stream",
          "name": "stdout",
          "text": [
            "{'a', 'c', 5}\n"
          ]
        },
        {
          "output_type": "execute_result",
          "data": {
            "application/vnd.google.colaboratory.intrinsic+json": {
              "type": "string"
            },
            "text/plain": [
              "'a'"
            ]
          },
          "metadata": {},
          "execution_count": 42
        }
      ]
    },
    {
      "cell_type": "code",
      "metadata": {
        "id": "Vo38o55yVaPV",
        "outputId": "58ca08f9-b536-4d5b-d0b3-e34a46cf4f99",
        "colab": {
          "base_uri": "https://localhost:8080/"
        }
      },
      "source": [
        "for item in some_set: print (item)"
      ],
      "execution_count": 43,
      "outputs": [
        {
          "output_type": "stream",
          "name": "stdout",
          "text": [
            "c\n",
            "5\n"
          ]
        }
      ]
    },
    {
      "cell_type": "code",
      "metadata": {
        "id": "F6yTElmsVhHO",
        "outputId": "39e972e0-bc64-4601-cd0c-11c73ac759a3",
        "colab": {
          "base_uri": "https://localhost:8080/"
        }
      },
      "source": [
        "some_set.discard(3)\n",
        "some_set"
      ],
      "execution_count": 46,
      "outputs": [
        {
          "output_type": "execute_result",
          "data": {
            "text/plain": [
              "{5, 'c'}"
            ]
          },
          "metadata": {},
          "execution_count": 46
        }
      ]
    },
    {
      "cell_type": "code",
      "metadata": {
        "id": "1nSJ7F3OXVdK"
      },
      "source": [
        "# set - union operator\n",
        "some_set = {'a', 'b', 'c'}\n",
        "some_other_set = {1, 2, 3}\n",
        "new_set = some_set | some_other_set"
      ],
      "execution_count": 47,
      "outputs": []
    },
    {
      "cell_type": "code",
      "metadata": {
        "id": "o8Wbaj5EXgN5",
        "outputId": "4d5dbf20-9a68-4e64-c812-651a6493d2e3",
        "colab": {
          "base_uri": "https://localhost:8080/"
        }
      },
      "source": [
        "new_set"
      ],
      "execution_count": 48,
      "outputs": [
        {
          "output_type": "execute_result",
          "data": {
            "text/plain": [
              "{1, 2, 3, 'a', 'b', 'c'}"
            ]
          },
          "metadata": {},
          "execution_count": 48
        }
      ]
    },
    {
      "cell_type": "code",
      "metadata": {
        "id": "RftwibWYXqXM",
        "outputId": "9a35d557-f211-40a6-cc40-2e9953bfb74e",
        "colab": {
          "base_uri": "https://localhost:8080/"
        }
      },
      "source": [
        "some_set.union(some_other_set)"
      ],
      "execution_count": 49,
      "outputs": [
        {
          "output_type": "execute_result",
          "data": {
            "text/plain": [
              "{1, 2, 3, 'a', 'b', 'c'}"
            ]
          },
          "metadata": {},
          "execution_count": 49
        }
      ]
    },
    {
      "cell_type": "code",
      "metadata": {
        "id": "TOMRqxLqXt8F",
        "outputId": "a596f27c-ffb6-4683-eff6-3696f4d53f94",
        "colab": {
          "base_uri": "https://localhost:8080/"
        }
      },
      "source": [
        "some_set"
      ],
      "execution_count": 50,
      "outputs": [
        {
          "output_type": "execute_result",
          "data": {
            "text/plain": [
              "{'a', 'b', 'c'}"
            ]
          },
          "metadata": {},
          "execution_count": 50
        }
      ]
    },
    {
      "cell_type": "code",
      "metadata": {
        "id": "TsCFAP95Xvi7",
        "outputId": "b5a4cee1-4ae9-4006-b556-ff3386c08fb5",
        "colab": {
          "base_uri": "https://localhost:8080/"
        }
      },
      "source": [
        "some_other_set"
      ],
      "execution_count": 51,
      "outputs": [
        {
          "output_type": "execute_result",
          "data": {
            "text/plain": [
              "{1, 2, 3}"
            ]
          },
          "metadata": {},
          "execution_count": 51
        }
      ]
    },
    {
      "cell_type": "code",
      "metadata": {
        "id": "OjaEoS09X-UZ"
      },
      "source": [
        "# intersection - &\n",
        "new_set = {2, 3, 6}"
      ],
      "execution_count": 52,
      "outputs": []
    },
    {
      "cell_type": "code",
      "metadata": {
        "id": "iYspF8zbYLWC",
        "outputId": "9c49d6de-9569-4ea6-f503-6a1e58a2a75b",
        "colab": {
          "base_uri": "https://localhost:8080/"
        }
      },
      "source": [
        "print(new_set & some_other_set)"
      ],
      "execution_count": 53,
      "outputs": [
        {
          "output_type": "stream",
          "name": "stdout",
          "text": [
            "{2, 3}\n"
          ]
        }
      ]
    },
    {
      "cell_type": "code",
      "metadata": {
        "id": "oUoeuL3QYcC6",
        "outputId": "183ae1cb-341c-4b74-8489-5bb1b42d6149",
        "colab": {
          "base_uri": "https://localhost:8080/"
        }
      },
      "source": [
        "print (new_set.intersection(some_other_set))"
      ],
      "execution_count": 54,
      "outputs": [
        {
          "output_type": "stream",
          "name": "stdout",
          "text": [
            "{2, 3}\n"
          ]
        }
      ]
    },
    {
      "cell_type": "markdown",
      "metadata": {
        "id": "j_gdIAq3xkhj"
      },
      "source": [
        "#### List (extended data type)"
      ]
    },
    {
      "cell_type": "code",
      "metadata": {
        "id": "jPVlA4yXykkw"
      },
      "source": [
        "# List\n",
        "# A collection of items which are ordered. List is mutable.\n",
        "# Constructor is list()\n",
        "a = [1, 2, 3, \"hello\", 5]"
      ],
      "execution_count": 65,
      "outputs": []
    },
    {
      "cell_type": "code",
      "metadata": {
        "id": "RcAAcHcO4HVI",
        "outputId": "2f78ec51-2c79-4360-b331-0ff59cb8fe96",
        "colab": {
          "base_uri": "https://localhost:8080/"
        }
      },
      "source": [
        "a.append('hi')\n",
        "print(a)"
      ],
      "execution_count": 66,
      "outputs": [
        {
          "output_type": "stream",
          "name": "stdout",
          "text": [
            "[1, 2, 3, 'hello', 5, 'hi']\n"
          ]
        }
      ]
    },
    {
      "cell_type": "code",
      "metadata": {
        "id": "6aOeQG784Jmc",
        "outputId": "dca94915-1e95-45ad-ec07-75f9a57bb0f6",
        "colab": {
          "base_uri": "https://localhost:8080/"
        }
      },
      "source": [
        "b = [2, 4, 'next']\n",
        "a.append(b)\n",
        "print (b)\n",
        "print(a)"
      ],
      "execution_count": 67,
      "outputs": [
        {
          "output_type": "stream",
          "name": "stdout",
          "text": [
            "[2, 4, 'next']\n",
            "[1, 2, 3, 'hello', 5, 'hi', [2, 4, 'next']]\n"
          ]
        }
      ]
    },
    {
      "cell_type": "code",
      "metadata": {
        "id": "jhDrVLHy4ccH",
        "outputId": "c7d609e2-c1a2-436f-93f4-a18d9f574420",
        "colab": {
          "base_uri": "https://localhost:8080/"
        }
      },
      "source": [
        "c = a[2:4]\n",
        "print (c)"
      ],
      "execution_count": 68,
      "outputs": [
        {
          "output_type": "stream",
          "name": "stdout",
          "text": [
            "[3, 'hello']\n"
          ]
        }
      ]
    },
    {
      "cell_type": "code",
      "metadata": {
        "id": "DMe9VFw_4xn1",
        "outputId": "958becd7-28fa-45be-ca13-5ebd8d77e602",
        "colab": {
          "base_uri": "https://localhost:8080/"
        }
      },
      "source": [
        "print (len(c))"
      ],
      "execution_count": 69,
      "outputs": [
        {
          "output_type": "stream",
          "name": "stdout",
          "text": [
            "2\n"
          ]
        }
      ]
    },
    {
      "cell_type": "code",
      "metadata": {
        "id": "rUQUC3pa4MhA",
        "outputId": "559f2748-5345-409d-eae5-de488442ec6b",
        "colab": {
          "base_uri": "https://localhost:8080/"
        }
      },
      "source": [
        "a = []\n",
        "print (a)"
      ],
      "execution_count": 70,
      "outputs": [
        {
          "output_type": "stream",
          "name": "stdout",
          "text": [
            "[]\n"
          ]
        }
      ]
    },
    {
      "cell_type": "markdown",
      "metadata": {
        "id": "c0QOr__1103r"
      },
      "source": [
        "#### Tuple (extended data type)"
      ]
    },
    {
      "cell_type": "code",
      "metadata": {
        "id": "6zPu2iJs2crj"
      },
      "source": [
        "# Tuple - collection of items which are ordered but immutable.\n",
        "# Constructor is tuple()\n",
        "a = (\"hello\", \"how\", (1, 2, 3), \"you\")"
      ],
      "execution_count": 71,
      "outputs": []
    },
    {
      "cell_type": "code",
      "metadata": {
        "id": "jQOy8m8j2gSo",
        "outputId": "437239e2-fe03-4de7-dd42-caf549ef9254",
        "colab": {
          "base_uri": "https://localhost:8080/"
        }
      },
      "source": [
        "print (type(a))"
      ],
      "execution_count": 72,
      "outputs": [
        {
          "output_type": "stream",
          "name": "stdout",
          "text": [
            "<class 'tuple'>\n"
          ]
        }
      ]
    },
    {
      "cell_type": "code",
      "metadata": {
        "id": "NyRXLzGc403j",
        "outputId": "0be9cd70-5874-44cb-c0f7-1222c495f21f",
        "colab": {
          "base_uri": "https://localhost:8080/"
        }
      },
      "source": [
        "print (len(a))"
      ],
      "execution_count": 73,
      "outputs": [
        {
          "output_type": "stream",
          "name": "stdout",
          "text": [
            "4\n"
          ]
        }
      ]
    },
    {
      "cell_type": "code",
      "metadata": {
        "id": "RXX7JrZXk8mW",
        "outputId": "e1020c30-c214-4eed-f9d7-630e63dc3d43",
        "colab": {
          "base_uri": "https://localhost:8080/"
        }
      },
      "source": [
        "for i in range(0, len(a)): print (a[i])"
      ],
      "execution_count": 74,
      "outputs": [
        {
          "output_type": "stream",
          "name": "stdout",
          "text": [
            "hello\n",
            "how\n",
            "(1, 2, 3)\n",
            "you\n"
          ]
        }
      ]
    },
    {
      "cell_type": "code",
      "metadata": {
        "id": "mMUF7ZBz2gO0",
        "outputId": "6f4f90c0-4fa2-4342-c38a-0a633118a91e",
        "colab": {
          "base_uri": "https://localhost:8080/"
        }
      },
      "source": [
        "print (a[0])"
      ],
      "execution_count": 75,
      "outputs": [
        {
          "output_type": "stream",
          "name": "stdout",
          "text": [
            "hello\n"
          ]
        }
      ]
    },
    {
      "cell_type": "code",
      "metadata": {
        "id": "56ure9QY2gLL"
      },
      "source": [
        "b = a[1:3]"
      ],
      "execution_count": 76,
      "outputs": []
    },
    {
      "cell_type": "code",
      "metadata": {
        "id": "Jauf9eI9kyBS",
        "outputId": "27ff27c3-0dd3-4314-b34a-8e8de92c6d4a",
        "colab": {
          "base_uri": "https://localhost:8080/"
        }
      },
      "source": [
        "type(b)"
      ],
      "execution_count": 77,
      "outputs": [
        {
          "output_type": "execute_result",
          "data": {
            "text/plain": [
              "tuple"
            ]
          },
          "metadata": {},
          "execution_count": 77
        }
      ]
    },
    {
      "cell_type": "code",
      "metadata": {
        "id": "BJECFoFI28zD",
        "outputId": "7fc94f52-8dd4-4529-b4bf-0ca9c9b93fb0",
        "colab": {
          "base_uri": "https://localhost:8080/"
        }
      },
      "source": [
        "print (b)"
      ],
      "execution_count": 78,
      "outputs": [
        {
          "output_type": "stream",
          "name": "stdout",
          "text": [
            "('how', (1, 2, 3))\n"
          ]
        }
      ]
    },
    {
      "cell_type": "code",
      "metadata": {
        "id": "5gx8RJnq5GiE",
        "outputId": "1fefe503-55b7-443c-befe-f076e6a04d1b",
        "colab": {
          "base_uri": "https://localhost:8080/"
        }
      },
      "source": [
        "print (b[-1])"
      ],
      "execution_count": 79,
      "outputs": [
        {
          "output_type": "stream",
          "name": "stdout",
          "text": [
            "(1, 2, 3)\n"
          ]
        }
      ]
    },
    {
      "cell_type": "code",
      "metadata": {
        "id": "MjpzmtXBtjdE",
        "outputId": "254106d1-0893-45de-b6fe-60ab07be9914",
        "colab": {
          "base_uri": "https://localhost:8080/"
        }
      },
      "source": [
        "#using Constructor\n",
        "new_list = list(('this', 1, \"is\", \"fine\"))\n",
        "new_list"
      ],
      "execution_count": 80,
      "outputs": [
        {
          "output_type": "execute_result",
          "data": {
            "text/plain": [
              "['this', 1, 'is', 'fine']"
            ]
          },
          "metadata": {},
          "execution_count": 80
        }
      ]
    },
    {
      "cell_type": "markdown",
      "metadata": {
        "id": "WtFeKcuL16MW"
      },
      "source": [
        "#### Dictionary (extended data type)"
      ]
    },
    {
      "cell_type": "code",
      "metadata": {
        "id": "kOrp2T1s6sCc"
      },
      "source": [
        "# Dictionary - collection of pairs of (key, value) which are mutable\n",
        "# Constructor is dict()"
      ],
      "execution_count": 81,
      "outputs": []
    },
    {
      "cell_type": "code",
      "metadata": {
        "id": "zDByZj8kWWxh"
      },
      "source": [
        "some_dict = dict({\"age\": 47, \n",
        "                  \"name\": \"Amar\", \n",
        "                  \"marks\": [23, 25, 24, 23]})"
      ],
      "execution_count": 82,
      "outputs": []
    },
    {
      "cell_type": "code",
      "metadata": {
        "id": "cLsbT3Ovvug0",
        "outputId": "24da8764-c3d1-4a93-f306-e170f4fa8583",
        "colab": {
          "base_uri": "https://localhost:8080/"
        }
      },
      "source": [
        "type(some_dict)"
      ],
      "execution_count": 83,
      "outputs": [
        {
          "output_type": "execute_result",
          "data": {
            "text/plain": [
              "dict"
            ]
          },
          "metadata": {},
          "execution_count": 83
        }
      ]
    },
    {
      "cell_type": "code",
      "metadata": {
        "id": "j6uIEOVsvixp"
      },
      "source": [
        "another_dict = {\"age\": 47, \n",
        "                  \"name\": \"Amar\", \n",
        "                  \"marks\": [23, 25, 24, 23]}"
      ],
      "execution_count": 84,
      "outputs": []
    },
    {
      "cell_type": "code",
      "metadata": {
        "id": "0-RkMWtevneW",
        "outputId": "205959e0-d00f-4722-d021-761c2e7acbde",
        "colab": {
          "base_uri": "https://localhost:8080/"
        }
      },
      "source": [
        "type(another_dict)"
      ],
      "execution_count": 85,
      "outputs": [
        {
          "output_type": "execute_result",
          "data": {
            "text/plain": [
              "dict"
            ]
          },
          "metadata": {},
          "execution_count": 85
        }
      ]
    },
    {
      "cell_type": "code",
      "metadata": {
        "id": "ScUuut2DRtwW",
        "outputId": "fd2eb8e5-cd22-4f7d-aad6-730315194dfd",
        "colab": {
          "base_uri": "https://localhost:8080/"
        }
      },
      "source": [
        "print (another_dict.get(\"marks\"))"
      ],
      "execution_count": 86,
      "outputs": [
        {
          "output_type": "stream",
          "name": "stdout",
          "text": [
            "[23, 25, 24, 23]\n"
          ]
        }
      ]
    },
    {
      "cell_type": "code",
      "metadata": {
        "id": "Jr2ocM04wdwG"
      },
      "source": [
        "# update value against a key\n",
        "another_dict[\"marks\"] = [23, 24, 25]"
      ],
      "execution_count": 88,
      "outputs": []
    },
    {
      "cell_type": "code",
      "metadata": {
        "id": "5FLSAGzlxUMi"
      },
      "source": [
        "# adding a new key-value pair\n",
        "another_dict[\"gender\"] = \"Male\""
      ],
      "execution_count": 87,
      "outputs": []
    },
    {
      "cell_type": "code",
      "metadata": {
        "id": "3xFsIN13zS48",
        "outputId": "f5317280-4e03-4fbe-af65-da26ec1a5c60",
        "colab": {
          "base_uri": "https://localhost:8080/"
        }
      },
      "source": [
        "another_dict"
      ],
      "execution_count": 89,
      "outputs": [
        {
          "output_type": "execute_result",
          "data": {
            "text/plain": [
              "{'age': 47, 'gender': 'Male', 'marks': [23, 24, 25], 'name': 'Amar'}"
            ]
          },
          "metadata": {},
          "execution_count": 89
        }
      ]
    },
    {
      "cell_type": "code",
      "metadata": {
        "id": "lgNNC1V1zJ_p",
        "outputId": "24684e41-a86b-40fd-b361-e9b7bf4b9435",
        "colab": {
          "base_uri": "https://localhost:8080/",
          "height": 35
        }
      },
      "source": [
        "# removing a key-value pair using pop\n",
        "another_dict.pop(\"gender\")"
      ],
      "execution_count": 90,
      "outputs": [
        {
          "output_type": "execute_result",
          "data": {
            "application/vnd.google.colaboratory.intrinsic+json": {
              "type": "string"
            },
            "text/plain": [
              "'Male'"
            ]
          },
          "metadata": {},
          "execution_count": 90
        }
      ]
    },
    {
      "cell_type": "code",
      "metadata": {
        "id": "zLcTq049y_7F",
        "outputId": "8dc6b089-e246-416a-b4a6-eec31b8d8f3b",
        "colab": {
          "base_uri": "https://localhost:8080/"
        }
      },
      "source": [
        "another_dict"
      ],
      "execution_count": 92,
      "outputs": [
        {
          "output_type": "execute_result",
          "data": {
            "text/plain": [
              "{'age': 47, 'marks': [23, 24, 25], 'name': 'Amar'}"
            ]
          },
          "metadata": {},
          "execution_count": 92
        }
      ]
    },
    {
      "cell_type": "code",
      "metadata": {
        "id": "a5kPOWcJwSVy",
        "outputId": "84c20c56-606f-483d-d16e-10fd3e696880",
        "colab": {
          "base_uri": "https://localhost:8080/"
        }
      },
      "source": [
        "print (some_dict.keys())"
      ],
      "execution_count": 91,
      "outputs": [
        {
          "output_type": "stream",
          "name": "stdout",
          "text": [
            "dict_keys(['age', 'name', 'marks'])\n"
          ]
        }
      ]
    },
    {
      "cell_type": "markdown",
      "metadata": {
        "id": "n6S0H1QCzvjY"
      },
      "source": [
        "#### Python Identity Operators - is, is not"
      ]
    },
    {
      "cell_type": "code",
      "metadata": {
        "id": "9pBVi4a0z2q5"
      },
      "source": [
        "a = [\"some\", \"list\"]\n",
        "b = [\"some\", \"list\"]\n"
      ],
      "execution_count": 93,
      "outputs": []
    },
    {
      "cell_type": "code",
      "metadata": {
        "id": "a_rsTrml6M1o",
        "outputId": "04b14da6-0c83-4589-8af8-5b8a60d4b795",
        "colab": {
          "base_uri": "https://localhost:8080/"
        }
      },
      "source": [
        "if a is b: \n",
        "   print ('a and b reference the same object')\n",
        "else:\n",
        "   print ('a and b do not reference the same object')"
      ],
      "execution_count": 94,
      "outputs": [
        {
          "output_type": "stream",
          "name": "stdout",
          "text": [
            "a and b do not reference the same object\n"
          ]
        }
      ]
    },
    {
      "cell_type": "code",
      "metadata": {
        "id": "3Cf-mRXx6Olj",
        "outputId": "84029e62-4b0c-44b5-9e92-f7bb27414973",
        "colab": {
          "base_uri": "https://localhost:8080/"
        }
      },
      "source": [
        "if a == b:\n",
        "   print ('However, the values of a and b are the same')\n",
        "else:\n",
        "   print (\"The values of a and b are different\")"
      ],
      "execution_count": 95,
      "outputs": [
        {
          "output_type": "stream",
          "name": "stdout",
          "text": [
            "However, the values of a and b are the same\n"
          ]
        }
      ]
    },
    {
      "cell_type": "code",
      "metadata": {
        "id": "2E_co7_i6MbJ",
        "outputId": "3ae9f8a2-c642-4219-9a92-60d5777a0598",
        "colab": {
          "base_uri": "https://localhost:8080/"
        }
      },
      "source": [
        "if a is not b:\n",
        "   print ('tested, they are indeed different')"
      ],
      "execution_count": 96,
      "outputs": [
        {
          "output_type": "stream",
          "name": "stdout",
          "text": [
            "tested, they are indeed different\n"
          ]
        }
      ]
    },
    {
      "cell_type": "markdown",
      "metadata": {
        "id": "sWA5Ii-BU7vA"
      },
      "source": [
        ""
      ]
    },
    {
      "cell_type": "markdown",
      "metadata": {
        "id": "JkZFcHU2z3OC"
      },
      "source": [
        "#### Python Membership Operators - in, not in"
      ]
    },
    {
      "cell_type": "code",
      "metadata": {
        "id": "CR8tAc1_rW11"
      },
      "source": [
        "a = [\"this\", \"is\", \"a\", \"new\", \"list\"]"
      ],
      "execution_count": 98,
      "outputs": []
    },
    {
      "cell_type": "code",
      "metadata": {
        "id": "UibZiI5e2cBj",
        "outputId": "453f324a-3765-40b5-8a01-7a7ba6cc98dd",
        "colab": {
          "base_uri": "https://localhost:8080/"
        }
      },
      "source": [
        "% time\n",
        "for item in a: \n",
        "  print (item)"
      ],
      "execution_count": 99,
      "outputs": [
        {
          "output_type": "stream",
          "name": "stdout",
          "text": [
            "CPU times: user 7 µs, sys: 0 ns, total: 7 µs\n",
            "Wall time: 11.9 µs\n",
            "this\n",
            "is\n",
            "a\n",
            "new\n",
            "list\n"
          ]
        }
      ]
    },
    {
      "cell_type": "code",
      "metadata": {
        "id": "n_uiZE9CsPMF",
        "outputId": "66bafa76-3f49-4391-ae37-e95b8dec3212",
        "colab": {
          "base_uri": "https://localhost:8080/"
        }
      },
      "source": [
        "% time\n",
        "for item in a:\n",
        "  print (item, end=\" \")"
      ],
      "execution_count": 101,
      "outputs": [
        {
          "output_type": "stream",
          "name": "stdout",
          "text": [
            "CPU times: user 3 µs, sys: 0 ns, total: 3 µs\n",
            "Wall time: 7.39 µs\n",
            "this is a new list "
          ]
        }
      ]
    },
    {
      "cell_type": "code",
      "metadata": {
        "id": "Zo1Ec35N2cgk",
        "outputId": "cee902b1-b73c-4750-d3be-82fcc65c1c4a",
        "colab": {
          "base_uri": "https://localhost:8080/"
        }
      },
      "source": [
        "if \"new\" in a: print ('Yes, matching item found')"
      ],
      "execution_count": 102,
      "outputs": [
        {
          "output_type": "stream",
          "name": "stdout",
          "text": [
            "Yes, matching item found\n"
          ]
        }
      ]
    },
    {
      "cell_type": "code",
      "metadata": {
        "id": "5bieGXu5z9Qk",
        "outputId": "a4c48a74-21de-42c2-ebe5-0d53e3132f45",
        "colab": {
          "base_uri": "https://localhost:8080/"
        }
      },
      "source": [
        "if (\"list\" not in a):\n",
        "  print (\"Am I wrong\")\n",
        "else:\n",
        "  print (\"Am I right\")"
      ],
      "execution_count": 103,
      "outputs": [
        {
          "output_type": "stream",
          "name": "stdout",
          "text": [
            "Am I right\n"
          ]
        }
      ]
    },
    {
      "cell_type": "markdown",
      "metadata": {
        "id": "AbmcGntt-yTg"
      },
      "source": [
        "#### More Detailed Examples"
      ]
    },
    {
      "cell_type": "markdown",
      "metadata": {
        "id": "sH8rekL73ae4"
      },
      "source": [
        "1. [Python Variables, Data Types](https://www.w3schools.com/python/python_variables.asp) and \n",
        "[Python Exercises ](https://www.w3schools.com/python/python_exercises.asp)\n",
        "2. [Official Python Documentation](https://docs.python.org/3/tutorial/introduction.html)"
      ]
    }
  ]
}