{
  "nbformat": 4,
  "nbformat_minor": 0,
  "metadata": {
    "colab": {
      "name": "07_Defining_Functions.ipynb",
      "provenance": [],
      "include_colab_link": true
    },
    "kernelspec": {
      "name": "python3",
      "display_name": "Python 3"
    },
    "language_info": {
      "name": "python"
    }
  },
  "cells": [
    {
      "cell_type": "markdown",
      "metadata": {
        "id": "view-in-github",
        "colab_type": "text"
      },
      "source": [
        "<a href=\"https://colab.research.google.com/github/macrodatascience/fmml2021/blob/main/07_Defining_Functions.ipynb\" target=\"_parent\"><img src=\"https://colab.research.google.com/assets/colab-badge.svg\" alt=\"Open In Colab\"/></a>"
      ]
    },
    {
      "cell_type": "code",
      "metadata": {
        "id": "1pqsgNqwnbHE"
      },
      "source": [
        "def inList (my_char, my_list=['a','e','i','o','u']):\n",
        "  \"\"\" this is a function to check whether a char is vowel or not \"\"\"\n",
        "  for each_char in my_list:\n",
        "    if each_char == my_char.lower():\n",
        "      return True, each_char\n",
        "  return False"
      ],
      "execution_count": 6,
      "outputs": []
    },
    {
      "cell_type": "code",
      "metadata": {
        "id": "SLpNGCWYn6Er",
        "outputId": "d720f9fc-0b46-452e-a6b1-8b1a20b69d73",
        "colab": {
          "base_uri": "https://localhost:8080/"
        }
      },
      "source": [
        "inList('Z', ['x', 'y', 'z', 'z'])"
      ],
      "execution_count": 7,
      "outputs": [
        {
          "output_type": "execute_result",
          "data": {
            "text/plain": [
              "(True, 'z')"
            ]
          },
          "metadata": {},
          "execution_count": 7
        }
      ]
    },
    {
      "cell_type": "code",
      "metadata": {
        "id": "r_KUNOW3rCc6"
      },
      "source": [
        "# Write a function to check whether a given number belongs to fibonacci series or not\n",
        "# a number belongs to the fibonacci series, if either (5*n^2-4) or (5*n^2+4) is a perfect square\n",
        "# so we'll be using this property to check if a number is fibonacci or not \n",
        "\n",
        "import math\n",
        "\n",
        "def checkFib(x):\n",
        "  if x<0:\n",
        "    return False\n",
        "  else: \n",
        "    a = 5*(x**2)-4\n",
        "    b = 5*(x**2)+4\n",
        "    print(a,b)\n",
        "    a_sqrt = int(math.sqrt(a))\n",
        "    b_sqrt = int(math.sqrt(b))\n",
        "    print(a_sqrt, b_sqrt)\n",
        "    if (a_sqrt**2==a or b_sqrt**2==b):\n",
        "      return True\n",
        "    else:\n",
        "      return False"
      ],
      "execution_count": 33,
      "outputs": []
    },
    {
      "cell_type": "code",
      "metadata": {
        "id": "GytMIl41sINb",
        "outputId": "d65997be-4e73-4fb2-9d82-b380bb5390c9",
        "colab": {
          "base_uri": "https://localhost:8080/"
        }
      },
      "source": [
        "checkFib(144)"
      ],
      "execution_count": 39,
      "outputs": [
        {
          "output_type": "stream",
          "name": "stdout",
          "text": [
            "103676 103684\n",
            "321 322\n"
          ]
        },
        {
          "output_type": "execute_result",
          "data": {
            "text/plain": [
              "True"
            ]
          },
          "metadata": {},
          "execution_count": 39
        }
      ]
    },
    {
      "cell_type": "code",
      "metadata": {
        "id": "A9u-_4UNsBao",
        "outputId": "ffc79734-08f5-4301-9f6d-a4d0c8d9e554",
        "colab": {
          "base_uri": "https://localhost:8080/"
        }
      },
      "source": [
        "checkFib(5)"
      ],
      "execution_count": 38,
      "outputs": [
        {
          "output_type": "stream",
          "name": "stdout",
          "text": [
            "121 129\n",
            "11 11\n"
          ]
        },
        {
          "output_type": "execute_result",
          "data": {
            "text/plain": [
              "True"
            ]
          },
          "metadata": {},
          "execution_count": 38
        }
      ]
    },
    {
      "cell_type": "code",
      "metadata": {
        "id": "9sR3-U6eqBoB",
        "outputId": "cdad249f-d8a3-491e-f551-b4b5cd9f459a",
        "colab": {
          "base_uri": "https://localhost:8080/"
        }
      },
      "source": [
        "checkFib(90)"
      ],
      "execution_count": 35,
      "outputs": [
        {
          "output_type": "stream",
          "name": "stdout",
          "text": [
            "40496 40504\n",
            "201 201\n"
          ]
        },
        {
          "output_type": "execute_result",
          "data": {
            "text/plain": [
              "False"
            ]
          },
          "metadata": {},
          "execution_count": 35
        }
      ]
    },
    {
      "cell_type": "markdown",
      "metadata": {
        "id": "3hfExC9BPkKK"
      },
      "source": [
        "Reference: [Python Documentation on Functions](https://docs.python.org/3/tutorial/controlflow.html#defining-functions)"
      ]
    }
  ]
}