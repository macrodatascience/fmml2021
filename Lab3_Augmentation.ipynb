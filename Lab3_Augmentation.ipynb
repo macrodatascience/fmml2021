{
  "nbformat": 4,
  "nbformat_minor": 0,
  "metadata": {
    "colab": {
      "name": "Lab3_Augmentation.ipynb",
      "provenance": [],
      "collapsed_sections": [],
      "include_colab_link": true
    },
    "kernelspec": {
      "name": "python3",
      "display_name": "Python 3"
    },
    "language_info": {
      "name": "python"
    }
  },
  "cells": [
    {
      "cell_type": "markdown",
      "metadata": {
        "id": "view-in-github",
        "colab_type": "text"
      },
      "source": [
        "<a href=\"https://colab.research.google.com/github/macrodatascience/fmml2021/blob/main/Lab3_Augmentation.ipynb\" target=\"_parent\"><img src=\"https://colab.research.google.com/assets/colab-badge.svg\" alt=\"Open In Colab\"/></a>"
      ]
    },
    {
      "cell_type": "markdown",
      "metadata": {
        "id": "w3yfry25JgZK"
      },
      "source": [
        "# Data augmentation\n",
        "\n",
        "FMML Module 1, Lab 3<br>\n",
        " Module Coordinator: Thrupthi Ann John thrupthi.ann@research.iiit.ac.in <br>\n",
        " Release date: 18 October 2021 <br>\n",
        "\n",
        " In this lab, we will see how augmentation of data samples help in improving the machine learning performance"
      ]
    },
    {
      "cell_type": "code",
      "metadata": {
        "id": "xZU8_elooqP0"
      },
      "source": [
        "import numpy as np\n",
        "import matplotlib.pyplot as plt\n",
        "from keras.datasets import mnist\n",
        "# set randomseed\n",
        "rng = np.random.default_rng(seed=42)\n",
        "from sklearn.utils.extmath import cartesian\n",
        "from skimage.transform import rotate, AffineTransform, warp\n",
        "import math"
      ],
      "execution_count": 1,
      "outputs": []
    },
    {
      "cell_type": "markdown",
      "metadata": {
        "id": "T5pHYogSMHiE"
      },
      "source": [
        "Augmentation is useful when we have less training data available. Augmentation allows us to 'create' a larger dataset programatically. \n",
        "\n",
        "For this lab we will use a subset of MNIST that is very small, to better understand the effect of augmentation. "
      ]
    },
    {
      "cell_type": "code",
      "metadata": {
        "id": "gJvmWJ58ovx5",
        "colab": {
          "base_uri": "https://localhost:8080/"
        },
        "outputId": "39b376ce-bf08-468b-9064-b9ec66c417c2"
      },
      "source": [
        "#loading the dataset\n",
        "(train_X, train_y), (test_X, test_y) = mnist.load_data()\n",
        "print(train_X.shape, train_y.shape, test_X.shape, test_y.shape)\n",
        "\n",
        "train_X = train_X/255\n",
        "test_X = test_X/255\n",
        "\n",
        "train_X = train_X[::1200,:,:].copy() # subsample. Otherwise it will take too long!\n",
        "train_y = train_y[::1200].copy() # do the same to the labels\n",
        "\n",
        "print(train_X.shape, train_y.shape, test_X.shape, test_y.shape)"
      ],
      "execution_count": 2,
      "outputs": [
        {
          "output_type": "stream",
          "name": "stdout",
          "text": [
            "Downloading data from https://storage.googleapis.com/tensorflow/tf-keras-datasets/mnist.npz\n",
            "11493376/11490434 [==============================] - 0s 0us/step\n",
            "11501568/11490434 [==============================] - 0s 0us/step\n",
            "(60000, 28, 28) (60000,) (10000, 28, 28) (10000,)\n",
            "(50, 28, 28) (50,) (10000, 28, 28) (10000,)\n"
          ]
        }
      ]
    },
    {
      "cell_type": "code",
      "metadata": {
        "id": "i9gaqUmNFrPT"
      },
      "source": [
        "dataset = None"
      ],
      "execution_count": 30,
      "outputs": []
    },
    {
      "cell_type": "code",
      "metadata": {
        "id": "mb2CChkv9vF-"
      },
      "source": [
        "# Smallest possible dataset \n",
        "\n",
        "dataset = None\n",
        "for ii in range(10):\n",
        "  if dataset is None:\n",
        "    dataset = np.expand_dims(train_X[train_y==ii][0],0)\n",
        "  else:\n",
        "    dataset = np.concatenate((dataset, np.expand_dims(train_X[train_y==ii][0],0)))\n",
        "\n",
        "labels = np.arange(10)"
      ],
      "execution_count": 36,
      "outputs": []
    },
    {
      "cell_type": "code",
      "metadata": {
        "colab": {
          "base_uri": "https://localhost:8080/"
        },
        "id": "XRBM-_9AIDzE",
        "outputId": "29d785c4-fb2d-49f5-b02a-5ca402896fac"
      },
      "source": [
        "dataset.shape"
      ],
      "execution_count": 37,
      "outputs": [
        {
          "output_type": "execute_result",
          "data": {
            "text/plain": [
              "(10, 28, 28)"
            ]
          },
          "metadata": {},
          "execution_count": 37
        }
      ]
    },
    {
      "cell_type": "code",
      "metadata": {
        "colab": {
          "base_uri": "https://localhost:8080/"
        },
        "id": "O5RiGSMBIgnE",
        "outputId": "c5fbd4d5-6481-4142-edf3-242160931923"
      },
      "source": [
        "testpred = NN(dataset, labels, test_X)\n",
        "print('Baseline accuracy without augmentation is ', Accuracy(test_y, testpred))"
      ],
      "execution_count": 38,
      "outputs": [
        {
          "output_type": "stream",
          "name": "stdout",
          "text": [
            "Baseline accuracy without augmentation is  0.4549\n"
          ]
        }
      ]
    },
    {
      "cell_type": "code",
      "metadata": {
        "colab": {
          "base_uri": "https://localhost:8080/"
        },
        "id": "XZdMaAkIn6Fg",
        "outputId": "7c8dca4a-37b1-480f-cd67-3d4f4f0298e9"
      },
      "source": [
        "train_X.shape, test_X.shape"
      ],
      "execution_count": 3,
      "outputs": [
        {
          "output_type": "execute_result",
          "data": {
            "text/plain": [
              "((50, 28, 28), (10000, 28, 28))"
            ]
          },
          "metadata": {},
          "execution_count": 3
        }
      ]
    },
    {
      "cell_type": "code",
      "metadata": {
        "colab": {
          "base_uri": "https://localhost:8080/"
        },
        "id": "7xUF9c0UoOMG",
        "outputId": "f7c88ccb-5d0b-4911-daac-67aef7b40a04"
      },
      "source": [
        "train_y.shape, test_y.shape"
      ],
      "execution_count": 4,
      "outputs": [
        {
          "output_type": "execute_result",
          "data": {
            "text/plain": [
              "((50,), (10000,))"
            ]
          },
          "metadata": {},
          "execution_count": 4
        }
      ]
    },
    {
      "cell_type": "markdown",
      "metadata": {
        "id": "8XamH6z1Rt7S"
      },
      "source": [
        "Let us borrow a few functions from the previous labs:"
      ]
    },
    {
      "cell_type": "code",
      "metadata": {
        "id": "Zk2W5_3BRLMS"
      },
      "source": [
        "def NN1(traindata, trainlabel, query):\n",
        "  diff  = traindata - query  # find the difference between features. Numpy automatically takes care of the size here \n",
        "  sq = diff*diff # square the differences\n",
        "  dist = sq.sum(1) # add up the squares\n",
        "  label = trainlabel[np.argmin(dist)] # our predicted label is the label of the training data which has the least distance from the query\n",
        "  return label\n",
        "\n",
        "def NN(traindata, trainlabel, testdata):\n",
        "  # we will run nearest neighbour for each sample in the test data \n",
        "  # and collect the predicted classes in an array using list comprehension\n",
        "  traindata = traindata.reshape(-1, 28*28)\n",
        "  testdata = testdata.reshape(-1,28*28)\n",
        "  predlabel = np.array([NN1(traindata, trainlabel, i) for i in testdata])\n",
        "  return predlabel\n",
        "\n",
        "def Accuracy(gtlabel, predlabel):\n",
        "  assert len(gtlabel)==len(predlabel), \"Length of the groundtruth labels and predicted labels should be the same\"\n",
        "  correct = (gtlabel==predlabel).sum() # count the number of times the groundtruth label is equal to the predicted label.\n",
        "  return correct/len(gtlabel)"
      ],
      "execution_count": 5,
      "outputs": []
    },
    {
      "cell_type": "markdown",
      "metadata": {
        "id": "eGiA3LmDSJZo"
      },
      "source": [
        "In this lab, we will use the image pixels themselves as features, instead of extracting features. Each image has 28*28 pixels, so we will flatten them to 784 pixels to use as features. Note that this is very compute intensive and will take a long time.<br>\n",
        "\n",
        "Let us check the baseline accuracy on the test set without any augmentations. We hope that adding augmentations will help us to get better results."
      ]
    },
    {
      "cell_type": "code",
      "metadata": {
        "colab": {
          "base_uri": "https://localhost:8080/"
        },
        "id": "IDdYPrUICdb5",
        "outputId": "bac6d81b-2632-4d94-a76d-f75cef8ded71"
      },
      "source": [
        "train_X.shape"
      ],
      "execution_count": 6,
      "outputs": [
        {
          "output_type": "execute_result",
          "data": {
            "text/plain": [
              "(50, 28, 28)"
            ]
          },
          "metadata": {},
          "execution_count": 6
        }
      ]
    },
    {
      "cell_type": "code",
      "metadata": {
        "colab": {
          "base_uri": "https://localhost:8080/"
        },
        "id": "lczCpzGkCH3p",
        "outputId": "ff1a3e46-025a-4fbd-b7ff-1f2c767678c1"
      },
      "source": [
        "train_X.reshape(-1,28*28).shape"
      ],
      "execution_count": 7,
      "outputs": [
        {
          "output_type": "execute_result",
          "data": {
            "text/plain": [
              "(50, 784)"
            ]
          },
          "metadata": {},
          "execution_count": 7
        }
      ]
    },
    {
      "cell_type": "code",
      "metadata": {
        "id": "4tQvnoasRNEV",
        "colab": {
          "base_uri": "https://localhost:8080/"
        },
        "outputId": "2d6333be-0b3f-4a58-c369-38578f9c634a"
      },
      "source": [
        "testpred = NN(train_X, train_y, test_X)\n",
        "print('Baseline accuracy without augmentation is ', Accuracy(test_y, testpred))"
      ],
      "execution_count": 8,
      "outputs": [
        {
          "output_type": "stream",
          "name": "stdout",
          "text": [
            "Baseline accuracy without augmentation is  0.6472\n"
          ]
        }
      ]
    },
    {
      "cell_type": "markdown",
      "metadata": {
        "id": "ZfkcMfhIZQ7U"
      },
      "source": [
        "Let us try to improve this accuracy using augmentations. When we create augmentations, we have to make sure that the changes reflect what will naturally occur in the dataset. For example, we should not add colour to our samples as an augmentation because they do not naturally occur. We should not also flip the images in MNIST, because flipped images have different meanings for digits. \n",
        "\n",
        "### Augmentation 1: rotation\n",
        "\n",
        "Let us try rotating the image a little. We will use skimage library for this. "
      ]
    },
    {
      "cell_type": "code",
      "metadata": {
        "id": "z5WolJ9fZE7L",
        "colab": {
          "base_uri": "https://localhost:8080/",
          "height": 531
        },
        "outputId": "2f042cf7-95ad-4dc6-d854-8db1d4e5765d"
      },
      "source": [
        "plt.imshow(train_X[2], cmap='gray')\n",
        "plt.show()\n",
        "plt.imshow(rotate(train_X[2],45), cmap='gray')"
      ],
      "execution_count": 9,
      "outputs": [
        {
          "output_type": "display_data",
          "data": {
            "image/png": "[encoded data removed]",
            "text/plain": [
              "<Figure size 432x288 with 1 Axes>"
            ]
          },
          "metadata": {
            "needs_background": "light"
          }
        },
        {
          "output_type": "execute_result",
          "data": {
            "text/plain": [
              "<matplotlib.image.AxesImage at 0x7f6a945b5190>"
            ]
          },
          "metadata": {},
          "execution_count": 9
        },
        {
          "output_type": "display_data",
          "data": {
            "image/png": "[encoded data removed]",
            "text/plain": [
              "<Figure size 432x288 with 1 Axes>"
            ]
          },
          "metadata": {
            "needs_background": "light"
          }
        }
      ]
    },
    {
      "cell_type": "markdown",
      "metadata": {
        "id": "KE33Yxgggu0c"
      },
      "source": [
        "After rotating, the the class of the image is still the same. Let us make a function to rotate multiple images by random angles. We want a slightly different image every time we run this function. So, we generate a random number between 0 and 1 and change it so that it lies between -constraint/2 and +constraint/2"
      ]
    },
    {
      "cell_type": "code",
      "metadata": {
        "id": "vyM7pUV7Reze"
      },
      "source": [
        "def augRotate(sample, angleconstraint):\n",
        "  if angleconstraint==0:\n",
        "    return sample\n",
        "  if len(sample.shape)==2:\n",
        "    sample = np.expand_dims(sample, 0)  # make sure the sample is 3 dimensional\n",
        "  angle = rng.random(len(sample)) # generate random numbers for angles\n",
        "  angle = (angle-0.5)*angleconstraint # make the random angle constrained\n",
        "  nsample = sample.copy() # preallocate the augmented array to make it faster\n",
        "  for ii in range(len(sample)):\n",
        "    nsample[ii] = rotate(sample[ii], angle[ii])\n",
        "  return np.squeeze(nsample) # take care if the input had only one sample."
      ],
      "execution_count": 10,
      "outputs": []
    },
    {
      "cell_type": "markdown",
      "metadata": {
        "id": "kDk-N5VNjar9"
      },
      "source": [
        "This function returns a slightly different image each time we call it. So we can increase the number of images in the sample by any multiple. "
      ]
    },
    {
      "cell_type": "code",
      "metadata": {
        "id": "Vw3O9zGFgI8K",
        "colab": {
          "base_uri": "https://localhost:8080/",
          "height": 415
        },
        "outputId": "43981d6a-e007-420f-ec46-82a573e6f285"
      },
      "source": [
        "sample = train_X[20]\n",
        "angleconstraint = 70\n",
        "# show the original image\n",
        "plt.imshow(sample, cmap='gray')\n",
        "plt.show()\n",
        "plt.subplot(1,3,1)\n",
        "plt.imshow(augRotate(sample, angleconstraint), cmap='gray') # show an augmented image\n",
        "plt.subplot(1,3,2)\n",
        "plt.imshow(augRotate(sample, angleconstraint), cmap='gray') # show another augmented image from the same sample\n",
        "plt.subplot(1,3,3)\n",
        "plt.imshow(augRotate(sample, angleconstraint), cmap='gray') # one more image from the same sample"
      ],
      "execution_count": 11,
      "outputs": [
        {
          "output_type": "display_data",
          "data": {
            "image/png": "[encoded data removed]",
            "text/plain": [
              "<Figure size 432x288 with 1 Axes>"
            ]
          },
          "metadata": {
            "needs_background": "light"
          }
        },
        {
          "output_type": "execute_result",
          "data": {
            "text/plain": [
              "<matplotlib.image.AxesImage at 0x7f6a9447d150>"
            ]
          },
          "metadata": {},
          "execution_count": 11
        },
        {
          "output_type": "display_data",
          "data": {
            "image/png": "[encoded data removed]",
            "text/plain": [
              "<Figure size 432x288 with 3 Axes>"
            ]
          },
          "metadata": {
            "needs_background": "light"
          }
        }
      ]
    },
    {
      "cell_type": "markdown",
      "metadata": {
        "id": "ytv3NxF-kgxN"
      },
      "source": [
        "Let us augment the whole dataset and see if this improves the test accuracy"
      ]
    },
    {
      "cell_type": "code",
      "metadata": {
        "id": "iNzNAoDBkRzj",
        "colab": {
          "base_uri": "https://localhost:8080/"
        },
        "outputId": "47722cab-1c70-4c8f-dbc4-556fe5c054b0"
      },
      "source": [
        "# hyperparameters\n",
        "angleconstraint = 60\n",
        "naugmentations = 5\n",
        "\n",
        "# augment\n",
        "augdata = train_X # we include the original images also in the augmented dataset\n",
        "auglabel = train_y\n",
        "for ii in range(naugmentations):\n",
        "  augdata = np.concatenate((augdata, augRotate(train_X, angleconstraint))) # concatenate the augmented data to the set\n",
        "  auglabel = np.concatenate((auglabel, train_y))  # the labels don't change when we augment\n",
        "\n",
        "# check the test accuracy\n",
        "testpred = NN(augdata, auglabel, test_X)\n",
        "print('Accuracy after rotation augmentation is ', Accuracy(test_y, testpred))"
      ],
      "execution_count": 12,
      "outputs": [
        {
          "output_type": "stream",
          "name": "stdout",
          "text": [
            "Accuracy after rotation augmentation is  0.6616\n"
          ]
        }
      ]
    },
    {
      "cell_type": "code",
      "metadata": {
        "colab": {
          "base_uri": "https://localhost:8080/"
        },
        "id": "j9gj-kva3-kh",
        "outputId": "a3abbde3-522f-4151-edc3-fc14e55933a2"
      },
      "source": [
        "# hyperparameters\n",
        "angleconstraint = 60\n",
        "naugmentations = 10\n",
        "\n",
        "# augment\n",
        "augdata = train_X # we include the original images also in the augmented dataset\n",
        "auglabel = train_y\n",
        "for ii in range(naugmentations):\n",
        "  augdata = np.concatenate((augdata, augRotate(train_X, angleconstraint))) # concatenate the augmented data to the set\n",
        "  auglabel = np.concatenate((auglabel, train_y))  # the labels don't change when we augment\n",
        "\n",
        "# check the test accuracy\n",
        "testpred = NN(augdata, auglabel, test_X)\n",
        "print('Accuracy after rotation augmentation is ', Accuracy(test_y, testpred))"
      ],
      "execution_count": 23,
      "outputs": [
        {
          "output_type": "stream",
          "name": "stdout",
          "text": [
            "Accuracy after rotation augmentation is  0.6774\n"
          ]
        }
      ]
    },
    {
      "cell_type": "markdown",
      "metadata": {
        "id": "E88Nt9s1p5R6"
      },
      "source": [
        "The angle constraint is a hyperparameter which we have to tune using a validation set. (Here we are not doing that for time constraints). Let us try a grid search to find the best angle constraint."
      ]
    },
    {
      "cell_type": "code",
      "metadata": {
        "id": "aiaFRLREmGp6",
        "colab": {
          "base_uri": "https://localhost:8080/"
        },
        "outputId": "b352c55f-fe22-46b7-fcb3-d8bc4b7f6d59"
      },
      "source": [
        "angleconstraints = [0,10,20,30,40,50,60,70,80,90] # the values we want to test\n",
        "accuracies = np.zeros(len(angleconstraints), dtype=np.float) # we will save the values here\n",
        "\n",
        "for ii in range(len(angleconstraints)):\n",
        "  # create the augmented dataset\n",
        "  augdata = train_X # we include the original images also in the augmented dataset\n",
        "  auglabel = train_y\n",
        "  for jj in range(naugmentations):\n",
        "    augdata = np.concatenate((augdata, augRotate(train_X, angleconstraints[ii]))) # concatenate the augmented data to the set\n",
        "    auglabel = np.concatenate((auglabel, train_y))  # the labels don't change when we augment\n",
        "\n",
        "  # check the test accuracy\n",
        "  testpred = NN(augdata, auglabel, test_X)\n",
        "  accuracies[ii] = Accuracy(test_y, testpred)\n",
        "  print('Accuracy after rotation augmentation constrained by ',angleconstraints[ii], ' is ', accuracies[ii], flush=True)"
      ],
      "execution_count": 13,
      "outputs": [
        {
          "output_type": "stream",
          "name": "stdout",
          "text": [
            "Accuracy after rotation augmentation constrained by  0  is  0.6472\n",
            "Accuracy after rotation augmentation constrained by  10  is  0.6727\n",
            "Accuracy after rotation augmentation constrained by  20  is  0.673\n",
            "Accuracy after rotation augmentation constrained by  30  is  0.6737\n",
            "Accuracy after rotation augmentation constrained by  40  is  0.6731\n",
            "Accuracy after rotation augmentation constrained by  50  is  0.6701\n",
            "Accuracy after rotation augmentation constrained by  60  is  0.6675\n",
            "Accuracy after rotation augmentation constrained by  70  is  0.661\n",
            "Accuracy after rotation augmentation constrained by  80  is  0.6462\n",
            "Accuracy after rotation augmentation constrained by  90  is  0.6469\n"
          ]
        }
      ]
    },
    {
      "cell_type": "markdown",
      "metadata": {
        "id": "2oVDRYP2rxob"
      },
      "source": [
        "Let us see the best value for angle constraint: (Ideally this should be done on validation set, not test set)"
      ]
    },
    {
      "cell_type": "code",
      "metadata": {
        "id": "LqthJa_pmMHz",
        "colab": {
          "base_uri": "https://localhost:8080/",
          "height": 313
        },
        "outputId": "bb33d59e-0e94-445a-84c8-2d18326f046d"
      },
      "source": [
        "fig = plt.figure()\n",
        "ax = fig.add_axes([0.1, 0.1, 0.8, 0.8]) # main axes\n",
        "# plot the variation of accuracy\n",
        "ax.plot(angleconstraints, accuracies)\n",
        "ax.set_xlabel('angle')\n",
        "ax.set_ylabel('accuracy')\n",
        "# plot the maximum accuracy\n",
        "maxind = np.argmax(accuracies)\n",
        "plt.scatter(angleconstraints[maxind], accuracies[maxind], c='red')"
      ],
      "execution_count": 14,
      "outputs": [
        {
          "output_type": "execute_result",
          "data": {
            "text/plain": [
              "<matplotlib.collections.PathCollection at 0x7f6a943685d0>"
            ]
          },
          "metadata": {},
          "execution_count": 14
        },
        {
          "output_type": "display_data",
          "data": {
            "image/png": "[encoded data removed]",
            "text/plain": [
              "<Figure size 432x288 with 1 Axes>"
            ]
          },
          "metadata": {
            "needs_background": "light"
          }
        }
      ]
    },
    {
      "cell_type": "markdown",
      "metadata": {
        "id": "eJ8YuVfCuGTj"
      },
      "source": [
        "Let us try one more augmentation: shear. Here is what this looks like:"
      ]
    },
    {
      "cell_type": "code",
      "metadata": {
        "id": "pMiw46NLwssK"
      },
      "source": [
        "def shear(sample, amount):\n",
        "  tform = AffineTransform(shear = amount) # create the shear transform\n",
        "  img = warp(sample, tform) # apply the shear\n",
        "  # this makes the digit off-center. Since all the images in the test set are centralized, we will do the same here\n",
        "  col = img.sum(0).nonzero()[0]\n",
        "  row = img.sum(1).nonzero()[0]\n",
        "  if len(col)>0 and len(row)>0:\n",
        "    xshift = int(sample.shape[0]/2 - (row[0]+row[-1])/2)\n",
        "    yshift = int(sample.shape[1]/2 - (col[0]+col[-1])/2)\n",
        "    img = np.roll(img, (xshift, yshift),(0,1))\n",
        "  return img"
      ],
      "execution_count": 15,
      "outputs": []
    },
    {
      "cell_type": "code",
      "metadata": {
        "id": "4_u_EYpmnABK",
        "colab": {
          "base_uri": "https://localhost:8080/",
          "height": 531
        },
        "outputId": "4c17ed3e-fdd3-405d-cfc2-35955528f080"
      },
      "source": [
        "sample = train_X[2]\n",
        "plt.imshow(sample, cmap='gray')\n",
        "plt.show()\n",
        "\n",
        "# apply shear\n",
        "plt.imshow(shear(sample, 0.4), cmap='gray')"
      ],
      "execution_count": 16,
      "outputs": [
        {
          "output_type": "display_data",
          "data": {
            "image/png": "[encoded data removed]",
            "text/plain": [
              "<Figure size 432x288 with 1 Axes>"
            ]
          },
          "metadata": {
            "needs_background": "light"
          }
        },
        {
          "output_type": "execute_result",
          "data": {
            "text/plain": [
              "<matplotlib.image.AxesImage at 0x7f6a942af3d0>"
            ]
          },
          "metadata": {},
          "execution_count": 16
        },
        {
          "output_type": "display_data",
          "data": {
            "image/png": "[encoded data removed]",
            "text/plain": [
              "<Figure size 432x288 with 1 Axes>"
            ]
          },
          "metadata": {
            "needs_background": "light"
          }
        }
      ]
    },
    {
      "cell_type": "markdown",
      "metadata": {
        "id": "lGnWMoyM2pK4"
      },
      "source": [
        "Create an augmentation function which applies a random shear according to the constraint we provide:"
      ]
    },
    {
      "cell_type": "code",
      "metadata": {
        "id": "-qLDJyGytwP5"
      },
      "source": [
        "def augShear(sample, shearconstraint):\n",
        "  if shearconstraint==0:\n",
        "    return sample\n",
        "  if len(sample.shape)==2:\n",
        "    sample = np.expand_dims(sample, 0)  # make sure the sample is 3 dimensional\n",
        "  amt = rng.random(len(sample)) # generate random numbers for shear\n",
        "  amt = (amt-0.5)*shearconstraint # make the random shear constrained\n",
        "  nsample = sample.copy() # preallocate the augmented array to make it faster\n",
        "  for ii in range(len(sample)):\n",
        "    nsample[ii] = shear(sample[ii], amt[ii])\n",
        "  return np.squeeze(nsample) # take care if the input had only one sample."
      ],
      "execution_count": 17,
      "outputs": []
    },
    {
      "cell_type": "markdown",
      "metadata": {
        "id": "s6lQcWW93suJ"
      },
      "source": [
        "Let us do a grid search to find the best shear constraint."
      ]
    },
    {
      "cell_type": "code",
      "metadata": {
        "id": "l_wrqPkrzBb_",
        "colab": {
          "base_uri": "https://localhost:8080/"
        },
        "outputId": "bd31cb3d-bf9a-4744-c9fd-5525a08e5ddf"
      },
      "source": [
        "shearconstraints = [0, 0.2,0.4,0.6,0.8,1.0,1.2,1.4,1.6,1.8,2.0] # the values we want to test\n",
        "accuracies = np.zeros(len(shearconstraints), dtype=np.float) # we will save the values here\n",
        "\n",
        "for ii in range(len(shearconstraints)):\n",
        "  # create the augmented dataset\n",
        "  augdata = train_X # we include the original images also in the augmented dataset\n",
        "  auglabel = train_y\n",
        "  for jj in range(naugmentations):\n",
        "    augdata = np.concatenate((augdata, augShear(train_X, shearconstraints[ii]))) # concatenate the augmented data to the set\n",
        "    auglabel = np.concatenate((auglabel, train_y))  # the labels don't change when we augment\n",
        "\n",
        "  # check the test accuracy\n",
        "  testpred = NN(augdata, auglabel, test_X)\n",
        "  accuracies[ii] = Accuracy(test_y, testpred)\n",
        "  print('Accuracy after shear augmentation constrained by ',shearconstraints[ii], ' is ', accuracies[ii], flush=True)"
      ],
      "execution_count": 18,
      "outputs": [
        {
          "output_type": "stream",
          "name": "stdout",
          "text": [
            "Accuracy after shear augmentation constrained by  0  is  0.6472\n",
            "Accuracy after shear augmentation constrained by  0.2  is  0.6147\n",
            "Accuracy after shear augmentation constrained by  0.4  is  0.632\n",
            "Accuracy after shear augmentation constrained by  0.6  is  0.6351\n",
            "Accuracy after shear augmentation constrained by  0.8  is  0.6636\n",
            "Accuracy after shear augmentation constrained by  1.0  is  0.6652\n",
            "Accuracy after shear augmentation constrained by  1.2  is  0.6495\n",
            "Accuracy after shear augmentation constrained by  1.4  is  0.6181\n",
            "Accuracy after shear augmentation constrained by  1.6  is  0.6323\n",
            "Accuracy after shear augmentation constrained by  1.8  is  0.6432\n",
            "Accuracy after shear augmentation constrained by  2.0  is  0.6277\n"
          ]
        }
      ]
    },
    {
      "cell_type": "code",
      "metadata": {
        "id": "EKaH-YR-zVnA",
        "colab": {
          "base_uri": "https://localhost:8080/",
          "height": 309
        },
        "outputId": "76100e3f-bfaf-4460-a0b3-eb3c309e5884"
      },
      "source": [
        "fig = plt.figure()\n",
        "ax = fig.add_axes([0.1, 0.1, 0.8, 0.8]) # main axes\n",
        "# plot the variation of accuracy\n",
        "ax.plot(shearconstraints, accuracies)\n",
        "ax.set_xlabel('angle')\n",
        "ax.set_ylabel('accuracy')\n",
        "# plot the maximum accuracy\n",
        "maxind = np.argmax(accuracies)\n",
        "plt.scatter(shearconstraints[maxind], accuracies[maxind], c='red')"
      ],
      "execution_count": 19,
      "outputs": [
        {
          "output_type": "execute_result",
          "data": {
            "text/plain": [
              "<matplotlib.collections.PathCollection at 0x7f6a94246350>"
            ]
          },
          "metadata": {},
          "execution_count": 19
        },
        {
          "output_type": "display_data",
          "data": {
            "image/png": "[encoded data removed]",
            "text/plain": [
              "<Figure size 432x288 with 1 Axes>"
            ]
          },
          "metadata": {
            "needs_background": "light"
          }
        }
      ]
    },
    {
      "cell_type": "markdown",
      "metadata": {
        "id": "ccfdbRcQ7Zgg"
      },
      "source": [
        "We can do multiple augmentations at the same time. Here is a function to do both shear and rotation to the sample. In this case, we will have two hyperparameters. "
      ]
    },
    {
      "cell_type": "code",
      "metadata": {
        "colab": {
          "base_uri": "https://localhost:8080/"
        },
        "id": "addBBOXHMnLF",
        "outputId": "716a5f92-8fb1-4b20-ce67-491034447211"
      },
      "source": [
        "shearconstraints = [0, 0.2,0.4,0.6,0.8,1.0,1.2,1.4,1.6,1.8,2.0] # the values we want to test\n",
        "accuracies = np.zeros(len(shearconstraints), dtype=np.float) # we will save the values here\n",
        "\n",
        "for ii in range(len(shearconstraints)):\n",
        "  # create the augmented dataset\n",
        "  augdata = train_X # we include the original images also in the augmented dataset\n",
        "  auglabel = train_y\n",
        "  for jj in range(naugmentations):\n",
        "    augdata = np.concatenate((augdata, augShear(train_X, shearconstraints[ii]))) # concatenate the augmented data to the set\n",
        "    auglabel = np.concatenate((auglabel, train_y))  # the labels don't change when we augment\n",
        "\n",
        "  # check the test accuracy\n",
        "  testpred = NN(augdata, auglabel, test_X)\n",
        "  accuracies[ii] = Accuracy(test_y, testpred)\n",
        "  print('Accuracy after shear augmentation constrained by ',shearconstraints[ii], ' is ', accuracies[ii], flush=True)"
      ],
      "execution_count": 41,
      "outputs": [
        {
          "output_type": "stream",
          "name": "stdout",
          "text": [
            "Accuracy after shear augmentation constrained by  0  is  0.6472\n",
            "Accuracy after shear augmentation constrained by  0.2  is  0.617\n",
            "Accuracy after shear augmentation constrained by  0.4  is  0.6383\n",
            "Accuracy after shear augmentation constrained by  0.6  is  0.6383\n",
            "Accuracy after shear augmentation constrained by  0.8  is  0.6484\n",
            "Accuracy after shear augmentation constrained by  1.0  is  0.6519\n",
            "Accuracy after shear augmentation constrained by  1.2  is  0.6309\n",
            "Accuracy after shear augmentation constrained by  1.4  is  0.6255\n",
            "Accuracy after shear augmentation constrained by  1.6  is  0.6405\n",
            "Accuracy after shear augmentation constrained by  1.8  is  0.6194\n",
            "Accuracy after shear augmentation constrained by  2.0  is  0.6416\n"
          ]
        }
      ]
    },
    {
      "cell_type": "code",
      "metadata": {
        "colab": {
          "base_uri": "https://localhost:8080/",
          "height": 309
        },
        "id": "R5wuJvoFOWb1",
        "outputId": "f5948a12-2fd6-42d0-a4a3-603152ac346a"
      },
      "source": [
        "fig = plt.figure()\n",
        "ax = fig.add_axes([0.1, 0.1, 0.8, 0.8]) # main axes\n",
        "# plot the variation of accuracy\n",
        "ax.plot(shearconstraints, accuracies)\n",
        "ax.set_xlabel('angle')\n",
        "ax.set_ylabel('accuracy')\n",
        "# plot the maximum accuracy\n",
        "maxind = np.argmax(accuracies)\n",
        "plt.scatter(shearconstraints[maxind], accuracies[maxind], c='green')"
      ],
      "execution_count": 42,
      "outputs": [
        {
          "output_type": "execute_result",
          "data": {
            "text/plain": [
              "<matplotlib.collections.PathCollection at 0x7f6a90019990>"
            ]
          },
          "metadata": {},
          "execution_count": 42
        },
        {
          "output_type": "display_data",
          "data": {
            "image/png": "[encoded data removed]",
            "text/plain": [
              "<Figure size 432x288 with 1 Axes>"
            ]
          },
          "metadata": {
            "needs_background": "light"
          }
        }
      ]
    },
    {
      "cell_type": "code",
      "metadata": {
        "id": "sh8S_Pxa0XCv"
      },
      "source": [
        "def augRotateShear(sample, angleconstraint, shearconstraint):\n",
        "  if len(sample.shape)==2:\n",
        "    sample = np.expand_dims(sample, 0)  # make sure the sample is 3 dimensional\n",
        "  amt = rng.random(len(sample)) # generate random numbers for shear\n",
        "  amt = (amt-0.5)*shearconstraint # make the random shear constrained\n",
        "  angle = rng.random(len(sample)) # generate random numbers for angles\n",
        "  angle = (angle-0.5)*angleconstraint # make the random angle constrained\n",
        "  nsample = sample.copy() # preallocate the augmented array to make it faster\n",
        "  for ii in range(len(sample)):\n",
        "    nsample[ii] = rotate(shear(sample[ii], amt[ii]), angle[ii]) # first apply shear, then rotate\n",
        "  return np.squeeze(nsample) # take care if the input had only one sample."
      ],
      "execution_count": 20,
      "outputs": []
    },
    {
      "cell_type": "markdown",
      "metadata": {
        "id": "OGKyjjNx-NQ4"
      },
      "source": [
        "Since we have two hyperparameters, we have to do the grid search on a 2 dimensional matrix. We can use our previous experience to inform where to search for the best hyperparameters. "
      ]
    },
    {
      "cell_type": "code",
      "metadata": {
        "id": "TJC45WRg0pOP",
        "colab": {
          "base_uri": "https://localhost:8080/"
        },
        "outputId": "79ba137e-7e93-4daf-cf10-6bf92d8ab76b"
      },
      "source": [
        "shearconstraints = [0, 0.2,0.4,0.6,0.8,1.0,1.2,1.4,1.6] # the values we want to test\n",
        "angleconstraints = [0,10,20,30,40,50,60] # the values we want to test\n",
        "hyp = cartesian((shearconstraints, angleconstraints)) # cartesian product of both\n",
        "\n",
        "accuracies = np.zeros(len(hyp), dtype=np.float) # we will save the values here\n",
        "\n",
        "for ii in range(len(hyp)):\n",
        "  # create the augmented dataset\n",
        "  augdata = train_X # we include the original images also in the augmented dataset\n",
        "  auglabel = train_y\n",
        "  for jj in range(naugmentations):\n",
        "    augdata = np.concatenate((augdata, augRotateShear(train_X, hyp[ii][0], hyp[ii][1]))) # concatenate the augmented data to the set\n",
        "    auglabel = np.concatenate((auglabel, train_y))  # the labels don't change when we augment\n",
        "\n",
        "  # check the test accuracy\n",
        "  testpred = NN(augdata, auglabel, test_X)\n",
        "  accuracies[ii] = Accuracy(test_y, testpred)\n",
        "  print('Accuracy after augmentation shear:',hyp[ii][0], 'angle:',hyp[ii][1], ' is ', accuracies[ii], flush=True)"
      ],
      "execution_count": 21,
      "outputs": [
        {
          "output_type": "stream",
          "name": "stdout",
          "text": [
            "Accuracy after augmentation shear: 0.0 angle: 0.0  is  0.6332\n",
            "Accuracy after augmentation shear: 0.0 angle: 10.0  is  0.6151\n",
            "Accuracy after augmentation shear: 0.0 angle: 20.0  is  0.5997\n",
            "Accuracy after augmentation shear: 0.0 angle: 30.0  is  0.5915\n",
            "Accuracy after augmentation shear: 0.0 angle: 40.0  is  0.6198\n",
            "Accuracy after augmentation shear: 0.0 angle: 50.0  is  0.6031\n",
            "Accuracy after augmentation shear: 0.0 angle: 60.0  is  0.5916\n",
            "Accuracy after augmentation shear: 0.2 angle: 0.0  is  0.634\n",
            "Accuracy after augmentation shear: 0.2 angle: 10.0  is  0.5991\n",
            "Accuracy after augmentation shear: 0.2 angle: 20.0  is  0.6044\n",
            "Accuracy after augmentation shear: 0.2 angle: 30.0  is  0.6358\n",
            "Accuracy after augmentation shear: 0.2 angle: 40.0  is  0.5827\n",
            "Accuracy after augmentation shear: 0.2 angle: 50.0  is  0.579\n",
            "Accuracy after augmentation shear: 0.2 angle: 60.0  is  0.5877\n",
            "Accuracy after augmentation shear: 0.4 angle: 0.0  is  0.6344\n",
            "Accuracy after augmentation shear: 0.4 angle: 10.0  is  0.6151\n",
            "Accuracy after augmentation shear: 0.4 angle: 20.0  is  0.5988\n",
            "Accuracy after augmentation shear: 0.4 angle: 30.0  is  0.6107\n",
            "Accuracy after augmentation shear: 0.4 angle: 40.0  is  0.6177\n",
            "Accuracy after augmentation shear: 0.4 angle: 50.0  is  0.5855\n",
            "Accuracy after augmentation shear: 0.4 angle: 60.0  is  0.5893\n",
            "Accuracy after augmentation shear: 0.6 angle: 0.0  is  0.6339\n",
            "Accuracy after augmentation shear: 0.6 angle: 10.0  is  0.6191\n",
            "Accuracy after augmentation shear: 0.6 angle: 20.0  is  0.595\n",
            "Accuracy after augmentation shear: 0.6 angle: 30.0  is  0.5963\n",
            "Accuracy after augmentation shear: 0.6 angle: 40.0  is  0.6203\n",
            "Accuracy after augmentation shear: 0.6 angle: 50.0  is  0.5859\n",
            "Accuracy after augmentation shear: 0.6 angle: 60.0  is  0.6094\n",
            "Accuracy after augmentation shear: 0.8 angle: 0.0  is  0.6354\n",
            "Accuracy after augmentation shear: 0.8 angle: 10.0  is  0.6208\n",
            "Accuracy after augmentation shear: 0.8 angle: 20.0  is  0.5928\n",
            "Accuracy after augmentation shear: 0.8 angle: 30.0  is  0.5875\n",
            "Accuracy after augmentation shear: 0.8 angle: 40.0  is  0.6242\n",
            "Accuracy after augmentation shear: 0.8 angle: 50.0  is  0.5796\n",
            "Accuracy after augmentation shear: 0.8 angle: 60.0  is  0.5947\n",
            "Accuracy after augmentation shear: 1.0 angle: 0.0  is  0.6334\n",
            "Accuracy after augmentation shear: 1.0 angle: 10.0  is  0.6178\n",
            "Accuracy after augmentation shear: 1.0 angle: 20.0  is  0.6074\n",
            "Accuracy after augmentation shear: 1.0 angle: 30.0  is  0.5934\n",
            "Accuracy after augmentation shear: 1.0 angle: 40.0  is  0.6199\n",
            "Accuracy after augmentation shear: 1.0 angle: 50.0  is  0.5865\n",
            "Accuracy after augmentation shear: 1.0 angle: 60.0  is  0.5952\n",
            "Accuracy after augmentation shear: 1.2 angle: 0.0  is  0.6328\n",
            "Accuracy after augmentation shear: 1.2 angle: 10.0  is  0.5727\n",
            "Accuracy after augmentation shear: 1.2 angle: 20.0  is  0.617\n",
            "Accuracy after augmentation shear: 1.2 angle: 30.0  is  0.5852\n",
            "Accuracy after augmentation shear: 1.2 angle: 40.0  is  0.5813\n",
            "Accuracy after augmentation shear: 1.2 angle: 50.0  is  0.587\n",
            "Accuracy after augmentation shear: 1.2 angle: 60.0  is  0.6195\n",
            "Accuracy after augmentation shear: 1.4 angle: 0.0  is  0.6344\n",
            "Accuracy after augmentation shear: 1.4 angle: 10.0  is  0.6069\n",
            "Accuracy after augmentation shear: 1.4 angle: 20.0  is  0.601\n",
            "Accuracy after augmentation shear: 1.4 angle: 30.0  is  0.5848\n",
            "Accuracy after augmentation shear: 1.4 angle: 40.0  is  0.6005\n",
            "Accuracy after augmentation shear: 1.4 angle: 50.0  is  0.6045\n",
            "Accuracy after augmentation shear: 1.4 angle: 60.0  is  0.6129\n",
            "Accuracy after augmentation shear: 1.6 angle: 0.0  is  0.6369\n",
            "Accuracy after augmentation shear: 1.6 angle: 10.0  is  0.6097\n",
            "Accuracy after augmentation shear: 1.6 angle: 20.0  is  0.6078\n",
            "Accuracy after augmentation shear: 1.6 angle: 30.0  is  0.6048\n",
            "Accuracy after augmentation shear: 1.6 angle: 40.0  is  0.585\n",
            "Accuracy after augmentation shear: 1.6 angle: 50.0  is  0.5915\n",
            "Accuracy after augmentation shear: 1.6 angle: 60.0  is  0.5941\n"
          ]
        }
      ]
    },
    {
      "cell_type": "markdown",
      "metadata": {
        "id": "PT6CnvSDEX7a"
      },
      "source": [
        "Let us plot it two dimensionally to see which is the best value for the hyperparameters:"
      ]
    },
    {
      "cell_type": "code",
      "metadata": {
        "id": "jD2i7msI_cLd",
        "colab": {
          "base_uri": "https://localhost:8080/",
          "height": 309
        },
        "outputId": "55f344a3-b951-43b9-987c-6a11f77acbba"
      },
      "source": [
        "fig = plt.figure()\n",
        "ax = fig.add_axes([0.1, 0.1, 0.8, 0.8]) # main axes\n",
        "im = ax.imshow(accuracies.reshape((len(shearconstraints), len(angleconstraints))), cmap='inferno') \n",
        "ax.set_xlabel('angle')\n",
        "ax.set_ylabel('shear')\n",
        "ax.set_xticks(np.arange(len(angleconstraints)));\n",
        "ax.set_xticklabels(angleconstraints);\n",
        "ax.set_yticks(np.arange(len(shearconstraints)));\n",
        "ax.set_yticklabels(shearconstraints);\n",
        "plt.colorbar(im)"
      ],
      "execution_count": 22,
      "outputs": [
        {
          "output_type": "execute_result",
          "data": {
            "text/plain": [
              "<matplotlib.colorbar.Colorbar at 0x7f6a9417b910>"
            ]
          },
          "metadata": {},
          "execution_count": 22
        },
        {
          "output_type": "display_data",
          "data": {
            "image/png": "[encoded data removed]",
            "text/plain": [
              "<Figure size 432x288 with 2 Axes>"
            ]
          },
          "metadata": {
            "needs_background": "light"
          }
        }
      ]
    },
    {
      "cell_type": "markdown",
      "metadata": {
        "id": "OHcZWJiFJDMh"
      },
      "source": [
        "It seems that rotation and shear don't mix! The best accuracy is when rotation is zero."
      ]
    },
    {
      "cell_type": "markdown",
      "metadata": {
        "id": "PAasQo1C3x4A"
      },
      "source": [
        "## Questions\n",
        "Try these questions for better understanding. You may not be able to solve all of them. \n",
        "1. What is the best value for angle constraint and shear constraint you got? How much did the accuracy improve as compared to not using augmentations?\n",
        "\n",
        "**Best value for Angle Constraint is 30, Shear Constraint is 1. Accuracy improved by ~ 2 percent**\n",
        "\n",
        "2. Can you increase the accuracy by increasing the number of augmentations from each sample?\n",
        "\n",
        "**Yes**\n",
        "\n",
        "3. Try implementing a few augmentations of your own and experimenting with them. A good reference is <a href=https://www.analyticsvidhya.com/blog/2019/12/image-augmentation-deep-learning-pytorch/>here. </a>\n",
        "\n",
        "\n",
        "4. Try combining various augmentations. What is the highest accuracy you can get? What is the smallest training dataset you can take and still get accuracy above 50%?\n",
        "\n",
        "**Highest accuracy we can get is 70%. Smallest training dataset we can take is (10,28,28) and can still get accuracy above 50%**\n",
        "\n",
        "Whenever you do any experiment, a good practice is to vary the hyperparameters gradually and create a graph of your results, like we did for gridsearch. "
      ]
    },
    {
      "cell_type": "code",
      "metadata": {
        "id": "mCzpwluJ46pI",
        "colab": {
          "base_uri": "https://localhost:8080/"
        },
        "outputId": "12d0e3fa-83c5-4f03-9d88-85fbf28d2c23"
      },
      "source": [
        "shearconstraints = [0, 0.2,0.4,0.6,0.8,1.0,1.2,1.4,1.6] # the values we want to test\n",
        "angleconstraints = [0,10,20,30,40,50,60] # the values we want to test\n",
        "hyp = cartesian((shearconstraints, angleconstraints)) # cartesian product of both\n",
        "\n",
        "accuracies = np.zeros(len(hyp), dtype=np.float) # we will save the values here\n",
        "\n",
        "naugmentations = 5 \n",
        "\n",
        "for ii in range(len(hyp)):\n",
        "  # create the augmented dataset\n",
        "  augdata = train_X # we include the original images also in the augmented dataset\n",
        "  auglabel = train_y\n",
        "  for jj in range(naugmentations):\n",
        "    augdata = np.concatenate((augdata, augRotate(train_X, hyp[ii][1]))) # concatenate the augmented data to the set\n",
        "    auglabel = np.concatenate((auglabel, train_y))  # the labels don't change when we augment\n",
        "    augdata = np.concatenate((augdata, augShear(train_X, hyp[ii][0]))) # concatenate the augmented data to the set\n",
        "    auglabel = np.concatenate((auglabel, train_y))  # the labels don't change when we augment\n",
        "\n",
        "  # check the test accuracy\n",
        "  testpred = NN(augdata, auglabel, test_X)\n",
        "  accuracies[ii] = Accuracy(test_y, testpred)\n",
        "  print('Accuracy after augmentation shear:',hyp[ii][0], 'angle:',hyp[ii][1], ' is ', accuracies[ii], flush=True)"
      ],
      "execution_count": 24,
      "outputs": [
        {
          "output_type": "stream",
          "name": "stdout",
          "text": [
            "Accuracy after augmentation shear: 0.0 angle: 0.0  is  0.6472\n",
            "Accuracy after augmentation shear: 0.0 angle: 10.0  is  0.6641\n",
            "Accuracy after augmentation shear: 0.0 angle: 20.0  is  0.6715\n",
            "Accuracy after augmentation shear: 0.0 angle: 30.0  is  0.6646\n",
            "Accuracy after augmentation shear: 0.0 angle: 40.0  is  0.6737\n",
            "Accuracy after augmentation shear: 0.0 angle: 50.0  is  0.665\n",
            "Accuracy after augmentation shear: 0.0 angle: 60.0  is  0.6621\n",
            "Accuracy after augmentation shear: 0.2 angle: 0.0  is  0.6229\n",
            "Accuracy after augmentation shear: 0.2 angle: 10.0  is  0.6554\n",
            "Accuracy after augmentation shear: 0.2 angle: 20.0  is  0.6752\n",
            "Accuracy after augmentation shear: 0.2 angle: 30.0  is  0.6736\n",
            "Accuracy after augmentation shear: 0.2 angle: 40.0  is  0.6739\n",
            "Accuracy after augmentation shear: 0.2 angle: 50.0  is  0.6739\n",
            "Accuracy after augmentation shear: 0.2 angle: 60.0  is  0.6507\n",
            "Accuracy after augmentation shear: 0.4 angle: 0.0  is  0.6338\n",
            "Accuracy after augmentation shear: 0.4 angle: 10.0  is  0.6615\n",
            "Accuracy after augmentation shear: 0.4 angle: 20.0  is  0.6781\n",
            "Accuracy after augmentation shear: 0.4 angle: 30.0  is  0.6761\n",
            "Accuracy after augmentation shear: 0.4 angle: 40.0  is  0.6744\n",
            "Accuracy after augmentation shear: 0.4 angle: 50.0  is  0.6813\n",
            "Accuracy after augmentation shear: 0.4 angle: 60.0  is  0.6785\n",
            "Accuracy after augmentation shear: 0.6 angle: 0.0  is  0.6487\n",
            "Accuracy after augmentation shear: 0.6 angle: 10.0  is  0.6748\n",
            "Accuracy after augmentation shear: 0.6 angle: 20.0  is  0.6829\n",
            "Accuracy after augmentation shear: 0.6 angle: 30.0  is  0.6821\n",
            "Accuracy after augmentation shear: 0.6 angle: 40.0  is  0.6828\n",
            "Accuracy after augmentation shear: 0.6 angle: 50.0  is  0.6711\n",
            "Accuracy after augmentation shear: 0.6 angle: 60.0  is  0.6755\n",
            "Accuracy after augmentation shear: 0.8 angle: 0.0  is  0.6493\n",
            "Accuracy after augmentation shear: 0.8 angle: 10.0  is  0.6811\n",
            "Accuracy after augmentation shear: 0.8 angle: 20.0  is  0.6954\n",
            "Accuracy after augmentation shear: 0.8 angle: 30.0  is  0.6927\n",
            "Accuracy after augmentation shear: 0.8 angle: 40.0  is  0.6908\n",
            "Accuracy after augmentation shear: 0.8 angle: 50.0  is  0.6931\n",
            "Accuracy after augmentation shear: 0.8 angle: 60.0  is  0.6768\n",
            "Accuracy after augmentation shear: 1.0 angle: 0.0  is  0.642\n",
            "Accuracy after augmentation shear: 1.0 angle: 10.0  is  0.6932\n",
            "Accuracy after augmentation shear: 1.0 angle: 20.0  is  0.6984\n",
            "Accuracy after augmentation shear: 1.0 angle: 30.0  is  0.7007\n",
            "Accuracy after augmentation shear: 1.0 angle: 40.0  is  0.6966\n",
            "Accuracy after augmentation shear: 1.0 angle: 50.0  is  0.6939\n",
            "Accuracy after augmentation shear: 1.0 angle: 60.0  is  0.6813\n",
            "Accuracy after augmentation shear: 1.2 angle: 0.0  is  0.6357\n",
            "Accuracy after augmentation shear: 1.2 angle: 10.0  is  0.6707\n",
            "Accuracy after augmentation shear: 1.2 angle: 20.0  is  0.6791\n",
            "Accuracy after augmentation shear: 1.2 angle: 30.0  is  0.6863\n",
            "Accuracy after augmentation shear: 1.2 angle: 40.0  is  0.6892\n",
            "Accuracy after augmentation shear: 1.2 angle: 50.0  is  0.6726\n",
            "Accuracy after augmentation shear: 1.2 angle: 60.0  is  0.6703\n",
            "Accuracy after augmentation shear: 1.4 angle: 0.0  is  0.6483\n",
            "Accuracy after augmentation shear: 1.4 angle: 10.0  is  0.6799\n",
            "Accuracy after augmentation shear: 1.4 angle: 20.0  is  0.6856\n",
            "Accuracy after augmentation shear: 1.4 angle: 30.0  is  0.6844\n",
            "Accuracy after augmentation shear: 1.4 angle: 40.0  is  0.6913\n",
            "Accuracy after augmentation shear: 1.4 angle: 50.0  is  0.6838\n",
            "Accuracy after augmentation shear: 1.4 angle: 60.0  is  0.6765\n",
            "Accuracy after augmentation shear: 1.6 angle: 0.0  is  0.6166\n",
            "Accuracy after augmentation shear: 1.6 angle: 10.0  is  0.6636\n",
            "Accuracy after augmentation shear: 1.6 angle: 20.0  is  0.6779\n",
            "Accuracy after augmentation shear: 1.6 angle: 30.0  is  0.6791\n",
            "Accuracy after augmentation shear: 1.6 angle: 40.0  is  0.6696\n",
            "Accuracy after augmentation shear: 1.6 angle: 50.0  is  0.6765\n",
            "Accuracy after augmentation shear: 1.6 angle: 60.0  is  0.6762\n"
          ]
        }
      ]
    },
    {
      "cell_type": "code",
      "metadata": {
        "colab": {
          "base_uri": "https://localhost:8080/"
        },
        "id": "SMpJtmWdJF8h",
        "outputId": "00f9c8bd-398d-41b9-9ad4-189977919756"
      },
      "source": [
        "shearconstraints = [0, 0.2,0.4,0.6,0.8,1.0,1.2,1.4,1.6] # the values we want to test\n",
        "angleconstraints = [0,10,20,30,40,50,60] # the values we want to test\n",
        "hyp = cartesian((shearconstraints, angleconstraints)) # cartesian product of both\n",
        "\n",
        "accuracies = np.zeros(len(hyp), dtype=np.float) # we will save the values here\n",
        "\n",
        "naugmentations = 5 \n",
        "\n",
        "for ii in range(len(hyp)):\n",
        "  # create the augmented dataset\n",
        "  augdata = dataset # we include the original images also in the augmented dataset\n",
        "  auglabel = labels\n",
        "  for jj in range(naugmentations):\n",
        "    augdata = np.concatenate((augdata, augRotate(dataset, hyp[ii][1]))) # concatenate the augmented data to the set\n",
        "    auglabel = np.concatenate((auglabel, labels))  # the labels don't change when we augment\n",
        "    augdata = np.concatenate((augdata, augShear(dataset, hyp[ii][0]))) # concatenate the augmented data to the set\n",
        "    auglabel = np.concatenate((auglabel, labels))  # the labels don't change when we augment\n",
        "\n",
        "  # check the test accuracy\n",
        "  testpred = NN(augdata, auglabel, test_X)\n",
        "  accuracies[ii] = Accuracy(test_y, testpred)\n",
        "  print('Accuracy after augmentation shear:',hyp[ii][0], 'angle:',hyp[ii][1], ' is ', accuracies[ii], flush=True)"
      ],
      "execution_count": 39,
      "outputs": [
        {
          "output_type": "stream",
          "name": "stdout",
          "text": [
            "Accuracy after augmentation shear: 0.0 angle: 0.0  is  0.4549\n",
            "Accuracy after augmentation shear: 0.0 angle: 10.0  is  0.4769\n",
            "Accuracy after augmentation shear: 0.0 angle: 20.0  is  0.4973\n",
            "Accuracy after augmentation shear: 0.0 angle: 30.0  is  0.511\n",
            "Accuracy after augmentation shear: 0.0 angle: 40.0  is  0.496\n",
            "Accuracy after augmentation shear: 0.0 angle: 50.0  is  0.4934\n",
            "Accuracy after augmentation shear: 0.0 angle: 60.0  is  0.4736\n",
            "Accuracy after augmentation shear: 0.2 angle: 0.0  is  0.4288\n",
            "Accuracy after augmentation shear: 0.2 angle: 10.0  is  0.4686\n",
            "Accuracy after augmentation shear: 0.2 angle: 20.0  is  0.4926\n",
            "Accuracy after augmentation shear: 0.2 angle: 30.0  is  0.4966\n",
            "Accuracy after augmentation shear: 0.2 angle: 40.0  is  0.473\n",
            "Accuracy after augmentation shear: 0.2 angle: 50.0  is  0.4788\n",
            "Accuracy after augmentation shear: 0.2 angle: 60.0  is  0.4864\n",
            "Accuracy after augmentation shear: 0.4 angle: 0.0  is  0.4487\n",
            "Accuracy after augmentation shear: 0.4 angle: 10.0  is  0.4889\n",
            "Accuracy after augmentation shear: 0.4 angle: 20.0  is  0.488\n",
            "Accuracy after augmentation shear: 0.4 angle: 30.0  is  0.4778\n",
            "Accuracy after augmentation shear: 0.4 angle: 40.0  is  0.4903\n",
            "Accuracy after augmentation shear: 0.4 angle: 50.0  is  0.5003\n",
            "Accuracy after augmentation shear: 0.4 angle: 60.0  is  0.4849\n",
            "Accuracy after augmentation shear: 0.6 angle: 0.0  is  0.47\n",
            "Accuracy after augmentation shear: 0.6 angle: 10.0  is  0.4985\n",
            "Accuracy after augmentation shear: 0.6 angle: 20.0  is  0.5189\n",
            "Accuracy after augmentation shear: 0.6 angle: 30.0  is  0.5073\n",
            "Accuracy after augmentation shear: 0.6 angle: 40.0  is  0.486\n",
            "Accuracy after augmentation shear: 0.6 angle: 50.0  is  0.4887\n",
            "Accuracy after augmentation shear: 0.6 angle: 60.0  is  0.5018\n",
            "Accuracy after augmentation shear: 0.8 angle: 0.0  is  0.4781\n",
            "Accuracy after augmentation shear: 0.8 angle: 10.0  is  0.4998\n",
            "Accuracy after augmentation shear: 0.8 angle: 20.0  is  0.5044\n",
            "Accuracy after augmentation shear: 0.8 angle: 30.0  is  0.5231\n",
            "Accuracy after augmentation shear: 0.8 angle: 40.0  is  0.5147\n",
            "Accuracy after augmentation shear: 0.8 angle: 50.0  is  0.5044\n",
            "Accuracy after augmentation shear: 0.8 angle: 60.0  is  0.4913\n",
            "Accuracy after augmentation shear: 1.0 angle: 0.0  is  0.469\n",
            "Accuracy after augmentation shear: 1.0 angle: 10.0  is  0.5088\n",
            "Accuracy after augmentation shear: 1.0 angle: 20.0  is  0.5004\n",
            "Accuracy after augmentation shear: 1.0 angle: 30.0  is  0.5069\n",
            "Accuracy after augmentation shear: 1.0 angle: 40.0  is  0.5056\n",
            "Accuracy after augmentation shear: 1.0 angle: 50.0  is  0.5044\n",
            "Accuracy after augmentation shear: 1.0 angle: 60.0  is  0.4888\n",
            "Accuracy after augmentation shear: 1.2 angle: 0.0  is  0.4733\n",
            "Accuracy after augmentation shear: 1.2 angle: 10.0  is  0.4868\n",
            "Accuracy after augmentation shear: 1.2 angle: 20.0  is  0.5106\n",
            "Accuracy after augmentation shear: 1.2 angle: 30.0  is  0.5094\n",
            "Accuracy after augmentation shear: 1.2 angle: 40.0  is  0.5097\n",
            "Accuracy after augmentation shear: 1.2 angle: 50.0  is  0.5049\n",
            "Accuracy after augmentation shear: 1.2 angle: 60.0  is  0.4901\n",
            "Accuracy after augmentation shear: 1.4 angle: 0.0  is  0.4506\n",
            "Accuracy after augmentation shear: 1.4 angle: 10.0  is  0.49\n",
            "Accuracy after augmentation shear: 1.4 angle: 20.0  is  0.4876\n",
            "Accuracy after augmentation shear: 1.4 angle: 30.0  is  0.4797\n",
            "Accuracy after augmentation shear: 1.4 angle: 40.0  is  0.5006\n",
            "Accuracy after augmentation shear: 1.4 angle: 50.0  is  0.501\n",
            "Accuracy after augmentation shear: 1.4 angle: 60.0  is  0.5178\n",
            "Accuracy after augmentation shear: 1.6 angle: 0.0  is  0.456\n",
            "Accuracy after augmentation shear: 1.6 angle: 10.0  is  0.4829\n",
            "Accuracy after augmentation shear: 1.6 angle: 20.0  is  0.4794\n",
            "Accuracy after augmentation shear: 1.6 angle: 30.0  is  0.4992\n",
            "Accuracy after augmentation shear: 1.6 angle: 40.0  is  0.4813\n",
            "Accuracy after augmentation shear: 1.6 angle: 50.0  is  0.5039\n",
            "Accuracy after augmentation shear: 1.6 angle: 60.0  is  0.4926\n"
          ]
        }
      ]
    },
    {
      "cell_type": "code",
      "metadata": {
        "colab": {
          "base_uri": "https://localhost:8080/",
          "height": 309
        },
        "id": "LujyK_7yL2OJ",
        "outputId": "46bfc4e9-8a57-42e6-93d2-41694d1cf850"
      },
      "source": [
        "fig = plt.figure()\n",
        "ax = fig.add_axes([0.1, 0.1, 0.8, 0.8]) # main axes\n",
        "im = ax.imshow(accuracies.reshape((len(shearconstraints), len(angleconstraints))), cmap='inferno') \n",
        "ax.set_xlabel('angle')\n",
        "ax.set_ylabel('shear')\n",
        "ax.set_xticks(np.arange(len(angleconstraints)));\n",
        "ax.set_xticklabels(angleconstraints);\n",
        "ax.set_yticks(np.arange(len(shearconstraints)));\n",
        "ax.set_yticklabels(shearconstraints);\n",
        "plt.colorbar(im)"
      ],
      "execution_count": 40,
      "outputs": [
        {
          "output_type": "execute_result",
          "data": {
            "text/plain": [
              "<matplotlib.colorbar.Colorbar at 0x7f6a900d7f50>"
            ]
          },
          "metadata": {},
          "execution_count": 40
        },
        {
          "output_type": "display_data",
          "data": {
            "image/png": "[encoded data removed]",
            "text/plain": [
              "<Figure size 432x288 with 2 Axes>"
            ]
          },
          "metadata": {
            "needs_background": "light"
          }
        }
      ]
    }
  ]
}